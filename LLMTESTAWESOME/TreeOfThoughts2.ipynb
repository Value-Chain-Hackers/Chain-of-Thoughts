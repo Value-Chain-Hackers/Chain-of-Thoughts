{
 "cells": [
  {
   "cell_type": "code",
   "execution_count": 1,
   "metadata": {
    "metadata": {}
   },
   "outputs": [
    {
     "name": "stdout",
     "output_type": "stream",
     "text": [
      "Defaulting to user installation because normal site-packages is not writeable\n",
      "Requirement already satisfied: langchain in /home/chris/.local/lib/python3.10/site-packages (0.1.20)\n",
      "Requirement already satisfied: langchain_community in /home/chris/.local/lib/python3.10/site-packages (0.0.38)\n",
      "Requirement already satisfied: dataclasses-json<0.7,>=0.5.7 in /home/chris/.local/lib/python3.10/site-packages (from langchain) (0.6.6)\n",
      "Requirement already satisfied: SQLAlchemy<3,>=1.4 in /home/chris/.local/lib/python3.10/site-packages (from langchain) (2.0.30)\n",
      "Requirement already satisfied: pydantic<3,>=1 in /home/chris/.local/lib/python3.10/site-packages (from langchain) (2.7.1)\n",
      "Requirement already satisfied: async-timeout<5.0.0,>=4.0.0 in /home/chris/.local/lib/python3.10/site-packages (from langchain) (4.0.3)\n",
      "Requirement already satisfied: numpy<2,>=1 in /home/chris/.local/lib/python3.10/site-packages (from langchain) (1.26.4)\n",
      "Requirement already satisfied: langsmith<0.2.0,>=0.1.17 in /home/chris/.local/lib/python3.10/site-packages (from langchain) (0.1.57)\n",
      "Requirement already satisfied: langchain-core<0.2.0,>=0.1.52 in /home/chris/.local/lib/python3.10/site-packages (from langchain) (0.1.52)\n",
      "Requirement already satisfied: tenacity<9.0.0,>=8.1.0 in /home/chris/.local/lib/python3.10/site-packages (from langchain) (8.3.0)\n",
      "Requirement already satisfied: requests<3,>=2 in /home/chris/.local/lib/python3.10/site-packages (from langchain) (2.31.0)\n",
      "Requirement already satisfied: langchain-text-splitters<0.1,>=0.0.1 in /home/chris/.local/lib/python3.10/site-packages (from langchain) (0.0.1)\n",
      "Requirement already satisfied: PyYAML>=5.3 in /usr/lib/python3/dist-packages (from langchain) (5.4.1)\n",
      "Requirement already satisfied: aiohttp<4.0.0,>=3.8.3 in /home/chris/.local/lib/python3.10/site-packages (from langchain) (3.9.5)\n",
      "Requirement already satisfied: aiosignal>=1.1.2 in /home/chris/.local/lib/python3.10/site-packages (from aiohttp<4.0.0,>=3.8.3->langchain) (1.3.1)\n",
      "Requirement already satisfied: multidict<7.0,>=4.5 in /home/chris/.local/lib/python3.10/site-packages (from aiohttp<4.0.0,>=3.8.3->langchain) (6.0.5)\n",
      "Requirement already satisfied: frozenlist>=1.1.1 in /home/chris/.local/lib/python3.10/site-packages (from aiohttp<4.0.0,>=3.8.3->langchain) (1.4.1)\n",
      "Requirement already satisfied: yarl<2.0,>=1.0 in /home/chris/.local/lib/python3.10/site-packages (from aiohttp<4.0.0,>=3.8.3->langchain) (1.9.4)\n",
      "Requirement already satisfied: attrs>=17.3.0 in /home/chris/.local/lib/python3.10/site-packages (from aiohttp<4.0.0,>=3.8.3->langchain) (23.2.0)\n",
      "Requirement already satisfied: marshmallow<4.0.0,>=3.18.0 in /home/chris/.local/lib/python3.10/site-packages (from dataclasses-json<0.7,>=0.5.7->langchain) (3.21.2)\n",
      "Requirement already satisfied: typing-inspect<1,>=0.4.0 in /home/chris/.local/lib/python3.10/site-packages (from dataclasses-json<0.7,>=0.5.7->langchain) (0.9.0)\n",
      "Requirement already satisfied: packaging<24.0,>=23.2 in /home/chris/.local/lib/python3.10/site-packages (from langchain-core<0.2.0,>=0.1.52->langchain) (23.2)\n",
      "Requirement already satisfied: jsonpatch<2.0,>=1.33 in /home/chris/.local/lib/python3.10/site-packages (from langchain-core<0.2.0,>=0.1.52->langchain) (1.33)\n",
      "Requirement already satisfied: orjson<4.0.0,>=3.9.14 in /home/chris/.local/lib/python3.10/site-packages (from langsmith<0.2.0,>=0.1.17->langchain) (3.10.3)\n",
      "Requirement already satisfied: pydantic-core==2.18.2 in /home/chris/.local/lib/python3.10/site-packages (from pydantic<3,>=1->langchain) (2.18.2)\n",
      "Requirement already satisfied: typing-extensions>=4.6.1 in /home/chris/.local/lib/python3.10/site-packages (from pydantic<3,>=1->langchain) (4.11.0)\n",
      "Requirement already satisfied: annotated-types>=0.4.0 in /home/chris/.local/lib/python3.10/site-packages (from pydantic<3,>=1->langchain) (0.6.0)\n",
      "Requirement already satisfied: urllib3<3,>=1.21.1 in /home/chris/.local/lib/python3.10/site-packages (from requests<3,>=2->langchain) (2.2.1)\n",
      "Requirement already satisfied: idna<4,>=2.5 in /home/chris/.local/lib/python3.10/site-packages (from requests<3,>=2->langchain) (3.7)\n",
      "Requirement already satisfied: charset-normalizer<4,>=2 in /home/chris/.local/lib/python3.10/site-packages (from requests<3,>=2->langchain) (3.3.2)\n",
      "Requirement already satisfied: certifi>=2017.4.17 in /home/chris/.local/lib/python3.10/site-packages (from requests<3,>=2->langchain) (2024.2.2)\n",
      "Requirement already satisfied: greenlet!=0.4.17 in /home/chris/.local/lib/python3.10/site-packages (from SQLAlchemy<3,>=1.4->langchain) (3.0.3)\n",
      "Requirement already satisfied: jsonpointer>=1.9 in /home/chris/.local/lib/python3.10/site-packages (from jsonpatch<2.0,>=1.33->langchain-core<0.2.0,>=0.1.52->langchain) (2.4)\n",
      "Requirement already satisfied: mypy-extensions>=0.3.0 in /home/chris/.local/lib/python3.10/site-packages (from typing-inspect<1,>=0.4.0->dataclasses-json<0.7,>=0.5.7->langchain) (1.0.0)\n",
      "Note: you may need to restart the kernel to use updated packages.\n"
     ]
    }
   ],
   "source": [
    "%pip install langchain langchain_community "
   ]
  },
  {
   "cell_type": "code",
   "execution_count": 2,
   "metadata": {
    "metadata": {}
   },
   "outputs": [],
   "source": [
    "from langchain.prompts import ChatPromptTemplate, PromptTemplate\n",
    "from langchain_community.llms.ollama import Ollama\n",
    "from langchain.llms.openai import OpenAIChat\n",
    "from langchain_core.output_parsers.string import StrOutputParser\n",
    "from langchain_core.output_parsers.json import JsonOutputParser\n",
    "import pandas as pd\n",
    "from IPython.display import display, Markdown\n",
    "llm = Ollama(model=\"llama3:latest\", num_ctx=4096, num_predict=1024, temperature=0.1)\n",
    "#llm = OpenAIChat(model=\"gpt-4\", temperature=0.1)"
   ]
  },
  {
   "cell_type": "code",
   "execution_count": 3,
   "metadata": {
    "metadata": {}
   },
   "outputs": [],
   "source": [
    "question = \"give me the supplychain powerdynamics map of the company ASML?\""
   ]
  },
  {
   "cell_type": "markdown",
   "metadata": {},
   "source": [
    "# Tree of thoughts"
   ]
  },
  {
   "cell_type": "code",
   "execution_count": 4,
   "metadata": {
    "metadata": {}
   },
   "outputs": [
    {
     "name": "stdout",
     "output_type": "stream",
     "text": [
      "Graph length: 7352\n"
     ]
    }
   ],
   "source": [
    "import json\n",
    "\n",
    "def load_graph(file):\n",
    "    with open(file) as f:\n",
    "        data = json.load(f)\n",
    "\n",
    "    text = \"```mermaid\\ngraph LR\\n\"\n",
    "    for item in data[\"links\"]:\n",
    "        text += f'\\t{item[\"source\"]} -- {item[\"value\"]} --> {item[\"target\"]}\\n'\n",
    "    text += \"```\"\n",
    "    return text\n",
    "text = load_graph(\"miserables_1.json\")\n",
    "\n",
    "graph_length = len(text)\n",
    "\n",
    "print(f\"Graph length: {graph_length}\")\n",
    "text = \"no input data\""
   ]
  },
  {
   "cell_type": "markdown",
   "metadata": {},
   "source": [
    "```mermaid\n",
    "graph LR;\n",
    "    A[Process Inputs] --> B[Create Thoughts];\n",
    "    B --> C[Evaluate Pathways];\n",
    "    C --> D[Summarize Results];\n",
    "    D --> E[Formulate Conclusions];\n",
    "```"
   ]
  },
  {
   "cell_type": "code",
   "execution_count": 5,
   "metadata": {
    "metadata": {}
   },
   "outputs": [
    {
     "data": {
      "text/markdown": [
       "no input data"
      ],
      "text/plain": [
       "<IPython.core.display.Markdown object>"
      ]
     },
     "metadata": {},
     "output_type": "display_data"
    }
   ],
   "source": [
    "display(Markdown(text))\n",
    "#display(text)"
   ]
  },
  {
   "cell_type": "markdown",
   "metadata": {},
   "source": [
    "# Process inputs"
   ]
  },
  {
   "cell_type": "markdown",
   "metadata": {},
   "source": [
    "Process the potential inputs into the the model: "
   ]
  },
  {
   "cell_type": "code",
   "execution_count": 6,
   "metadata": {
    "metadata": {}
   },
   "outputs": [],
   "source": [
    "prompt_process_inputs = PromptTemplate.from_template(\"\"\"\n",
    "## 1. Process inputs:\n",
    "    Given your knowledge, expressed as markdown format. \n",
    "    Please count the number of nodes and links in the graph.\n",
    "### Question\n",
    "{question}\n",
    "                                                         \n",
    "\"\"\")\n",
    "\n",
    "chain  = prompt_process_inputs | llm | StrOutputParser()"
   ]
  },
  {
   "cell_type": "markdown",
   "metadata": {},
   "source": [
    "Take the entire Graph "
   ]
  },
  {
   "cell_type": "code",
   "execution_count": 7,
   "metadata": {
    "metadata": {}
   },
   "outputs": [
    {
     "data": {
      "text/markdown": [
       "I'm happy to help! However, I need to clarify that ASML is a private company, and their internal power dynamics map might not be publicly available. But I can try to provide you with some general information about ASML's supply chain and organizational structure.\n",
       "\n",
       "ASML (Applied Materials Sciences Ltd.) is a leading provider of semiconductor equipment for the global electronics industry. Their supply chain involves various stakeholders, including suppliers, customers, partners, and competitors. Here's a simplified representation of their power dynamics map:\n",
       "\n",
       "**Nodes:**\n",
       "\n",
       "1. **ASML**: The company itself, with its executive team, departments, and subsidiaries.\n",
       "2. **Suppliers**: Companies that provide raw materials, components, or services to ASML (e.g., Intel, Samsung, TSMC).\n",
       "3. **Customers**: Companies that purchase ASML's products or services (e.g., Apple, Google, Amazon).\n",
       "4. **Partners**: Organizations that collaborate with ASML on research and development, marketing, or other initiatives.\n",
       "5. **Competitors**: Other companies in the semiconductor industry that compete with ASML for market share.\n",
       "\n",
       "**Links:**\n",
       "\n",
       "1. **ASML → Suppliers**: ASML purchases raw materials, components, or services from suppliers to manufacture its products.\n",
       "2. **Suppliers → ASML**: Suppliers provide goods and services to ASML, which are then used to produce ASML's products.\n",
       "3. **ASML → Customers**: ASML sells its products or services to customers, who use them in their own products or services.\n",
       "4. **Customers → ASML**: Customers purchase ASML's products or services, providing revenue for the company.\n",
       "5. **Partners → ASML**: Partners collaborate with ASML on various initiatives, sharing knowledge, resources, and expertise.\n",
       "6. **ASML → Competitors**: ASML competes with other companies in the semiconductor industry for market share, customers, and talent.\n",
       "\n",
       "**Counting nodes and links:**\n",
       "\n",
       "* Nodes: 5 (ASML, Suppliers, Customers, Partners, Competitors)\n",
       "* Links: 6\n",
       "\n",
       "Please note that this is a simplified representation of ASML's power dynamics map. The actual number of nodes and links might be higher due to the complexity of their supply chain and organizational structure.\n",
       "\n",
       "If you have any further questions or would like me to elaborate on specific aspects of ASML's supply chain, feel free to ask!"
      ],
      "text/plain": [
       "<IPython.core.display.Markdown object>"
      ]
     },
     "metadata": {},
     "output_type": "display_data"
    }
   ],
   "source": [
    "processedData =  chain.invoke({\n",
    "    \"graph\": text,\n",
    "    \"question\": question\n",
    "})\n",
    "\n",
    "display(Markdown(processedData))"
   ]
  },
  {
   "cell_type": "markdown",
   "metadata": {},
   "source": [
    "# List Toughts"
   ]
  },
  {
   "cell_type": "markdown",
   "metadata": {},
   "source": []
  },
  {
   "cell_type": "code",
   "execution_count": 8,
   "metadata": {
    "metadata": {}
   },
   "outputs": [],
   "source": [
    "prompt_create_toughts = ChatPromptTemplate.from_template(\"\"\"\n",
    "## 2. Create list of 10 toughts:\n",
    "    Given the processed data, please create a list of toughts that you have about the data.\n",
    "    Only list the that are relevant to the data and user question: {question}\n",
    "    Do not answer the question yet.\n",
    "    DO ONLY output as a valid 'JSON' array of strings in a JSON codeblock.\n",
    "### Processed data\n",
    "{data}\n",
    "                                                         \n",
    "### Question\n",
    "{question}\n",
    "                                                         \n",
    "\"\"\")\n",
    "\n",
    "chain_toughts  = prompt_create_toughts | llm | JsonOutputParser()"
   ]
  },
  {
   "cell_type": "markdown",
   "metadata": {},
   "source": [
    "A string Array of JSON strings"
   ]
  },
  {
   "cell_type": "code",
   "execution_count": 9,
   "metadata": {
    "metadata": {}
   },
   "outputs": [],
   "source": [
    "listOfThoughts = chain_toughts.invoke({\n",
    "    \"data\": processedData,\n",
    "    \"question\": question\n",
    "    })"
   ]
  },
  {
   "cell_type": "code",
   "execution_count": 10,
   "metadata": {
    "metadata": {}
   },
   "outputs": [
    {
     "data": {
      "text/plain": [
       "[\"The data provided seems to be a simplified representation of ASML's supply chain and organizational structure.\",\n",
       " 'ASML is a private company, which makes it challenging to obtain their internal power dynamics map.',\n",
       " \"The nodes in the map seem to represent different stakeholders involved in ASML's supply chain, including suppliers, customers, partners, and competitors.\",\n",
       " 'The links between these nodes appear to illustrate the relationships between these stakeholders, such as purchasing and selling goods and services.',\n",
       " 'The number of nodes (5) and links (6) seems relatively small compared to the complexity of a real-world supply chain.',\n",
       " \"ASML's power dynamics map might be influenced by factors like market trends, technological advancements, and global events.\",\n",
       " \"It would be interesting to explore how ASML's power dynamics map changes over time in response to these external factors.\",\n",
       " \"The data does not provide information on the specific roles or influence of different stakeholders within ASML's supply chain.\",\n",
       " \"ASML's supply chain might involve multiple tiers of suppliers, customers, and partners, which could affect the overall power dynamics.\",\n",
       " \"It would be valuable to analyze how ASML's power dynamics map relates to their business performance and market position.\"]"
      ]
     },
     "metadata": {},
     "output_type": "display_data"
    }
   ],
   "source": [
    "display((listOfThoughts))"
   ]
  },
  {
   "cell_type": "markdown",
   "metadata": {},
   "source": [
    "#### Loop over elements"
   ]
  },
  {
   "cell_type": "markdown",
   "metadata": {},
   "source": [
    "## Evaluate Pathways"
   ]
  },
  {
   "cell_type": "code",
   "execution_count": 11,
   "metadata": {
    "metadata": {}
   },
   "outputs": [
    {
     "data": {
      "text/markdown": [
       "### Evaluation of Pathways: Thoughts 1-10\n",
       "\n",
       "#### Thought 1: \"The data provided seems to be a simplified representation of ASML's supply chain and organizational structure.\"\n",
       "\n",
       "* **Pathway:** The thought is attempting to evaluate the complexity of the data.\n",
       "* **Evaluation Criteria:** Relevance, Accuracy\n",
       "* **Argument:** While the thought acknowledges that the data may be simplified, it does not provide sufficient evidence to support this claim. A more detailed analysis would be necessary to determine the level of simplification.\n",
       "\n",
       "#### Thought 2: \"ASML is a private company, which makes it challenging to obtain their internal power dynamics map.\"\n",
       "\n",
       "* **Pathway:** The thought is highlighting the potential difficulties in obtaining the desired information.\n",
       "* **Evaluation Criteria:** Relevance, Feasibility\n",
       "* **Argument:** This thought is relevant and feasible. ASML's private status does indeed make it more difficult to access their internal data.\n",
       "\n",
       "#### Thought 3: \"The nodes in the map seem to represent different stakeholders involved in ASML's supply chain, including suppliers, customers, partners, and competitors.\"\n",
       "\n",
       "* **Pathway:** The thought is attempting to identify the types of stakeholders represented.\n",
       "* **Evaluation Criteria:** Accuracy, Clarity\n",
       "* **Argument:** This thought appears accurate and clear. The nodes do appear to represent various stakeholders.\n",
       "\n",
       "#### Thought 4: \"The links between these nodes appear to illustrate the relationships between these stakeholders, such as purchasing and selling goods and services.\"\n",
       "\n",
       "* **Pathway:** The thought is attempting to describe the nature of the relationships.\n",
       "* **Evaluation Criteria:** Accuracy, Clarity\n",
       "* **Argument:** This thought appears accurate and clear. The links do seem to represent various relationships.\n",
       "\n",
       "#### Thought 5: \"The number of nodes (5) and links (6) seems relatively small compared to the complexity of a real-world supply chain.\"\n",
       "\n",
       "* **Pathway:** The thought is attempting to evaluate the scope of the data.\n",
       "* **Evaluation Criteria:** Relevance, Accuracy\n",
       "* **Argument:** This thought is relevant but may not be entirely accurate. A more detailed analysis would be necessary to determine the level of complexity.\n",
       "\n",
       "#### Thought 6: \"ASML's power dynamics map might be influenced by factors like market trends, technological advancements, and global events.\"\n",
       "\n",
       "* **Pathway:** The thought is attempting to identify potential external influences.\n",
       "* **Evaluation Criteria:** Relevance, Feasibility\n",
       "* **Argument:** This thought is relevant and feasible. External factors can indeed influence ASML's power dynamics.\n",
       "\n",
       "#### Thought 7: \"It would be interesting to explore how ASML's power dynamics map changes over time in response to these external factors.\"\n",
       "\n",
       "* **Pathway:** The thought is attempting to propose a potential research direction.\n",
       "* **Evaluation Criteria:** Relevance, Feasibility\n",
       "* **Argument:** This thought is relevant and feasible. Analyzing the dynamic nature of ASML's power dynamics could be an interesting area of study.\n",
       "\n",
       "#### Thought 8: \"The data does not provide information on the specific roles or influence of different stakeholders within ASML's supply chain.\"\n",
       "\n",
       "* **Pathway:** The thought is attempting to identify a limitation in the data.\n",
       "* **Evaluation Criteria:** Accuracy, Relevance\n",
       "* **Argument:** This thought appears accurate and relevant. The data does indeed lack this information.\n",
       "\n",
       "#### Thought 9: \"ASML's supply chain might involve multiple tiers of suppliers, customers, and partners, which could affect the overall power dynamics.\"\n",
       "\n",
       "* **Pathway:** The thought is attempting to propose a potential complexity in ASML's supply chain.\n",
       "* **Evaluation Criteria:** Relevance, Feasibility\n",
       "* **Argument:** This thought is relevant and feasible. Multiple tiers of stakeholders can indeed add complexity to a supply chain.\n",
       "\n",
       "#### Thought 10: \"It would be valuable to analyze how ASML's power dynamics map relates to their business performance and market position.\"\n",
       "\n",
       "* **Pathway:** The thought is attempting to propose a potential research direction.\n",
       "* **Evaluation Criteria:** Relevance, Feasibility\n",
       "* **Argument:** This thought is relevant and feasible. Analyzing the relationship between ASML's power dynamics and business performance could be an interesting area of study.\n",
       "\n",
       "Please note that this evaluation does not provide a definitive answer to the question but rather assesses the pathways of each thought based on specific criteria."
      ],
      "text/plain": [
       "<IPython.core.display.Markdown object>"
      ]
     },
     "metadata": {},
     "output_type": "display_data"
    }
   ],
   "source": [
    "prompt_evaluate = ChatPromptTemplate.from_template(\"\"\"\n",
    "## 3. Evaluate pathways:\n",
    "    Given the thoughts and the data, please evaluate and argue with evaluation criterias the pathways of each thought.\n",
    "    DO NOT answer the question yet.\n",
    "    DO ONLY format your output as 'markdown'.\n",
    "                                                   \n",
    "### Processed data\n",
    "{data}\n",
    "                                                   \n",
    "### List of thoughts\n",
    "{thoughts}\n",
    "                                                         \n",
    "### Question\n",
    "{question}\n",
    "\n",
    "\"\"\")\n",
    "\n",
    "chain_evaluate  = prompt_evaluate | llm | StrOutputParser()\n",
    "evaluation = chain_evaluate.invoke({\n",
    "    \"data\": text,\n",
    "    \"thoughts\": listOfThoughts,\n",
    "    \"question\": question\n",
    "    })\n",
    "\n",
    "display(Markdown(evaluation))"
   ]
  },
  {
   "cell_type": "markdown",
   "metadata": {},
   "source": [
    "## Synthesize Pathway Evaluation"
   ]
  },
  {
   "cell_type": "code",
   "execution_count": 12,
   "metadata": {
    "metadata": {}
   },
   "outputs": [],
   "source": [
    "prompt_synthesize_evaluate = ChatPromptTemplate.from_template(\"\"\"\n",
    "## 4. Evaluate pathways:\n",
    "    Synthesize the data gathered from thoughts list and evaluation pathways\n",
    "    Create a comprehensive synthesis for answering the question: {question}.\n",
    "    DO NOT answer the question yet.\n",
    "    DO process all thoughts\n",
    "                                                   \n",
    "### List of thoughts\n",
    "{thoughts}\n",
    "\n",
    "### Pathways evaluation\n",
    "{evaluation}\n",
    "                                                         \n",
    "### Question\n",
    "{question}\n",
    "\n",
    "\"\"\")\n",
    "\n",
    "chain_synthesize_evaluate  = prompt_synthesize_evaluate | llm | StrOutputParser()\n",
    "synthesis = chain_synthesize_evaluate.invoke({\n",
    "    \"data\": text,\n",
    "    \"thoughts\": listOfThoughts,\n",
    "    \"evaluation\": evaluation,\n",
    "    \"question\": question\n",
    "    })\n"
   ]
  },
  {
   "cell_type": "code",
   "execution_count": 13,
   "metadata": {
    "metadata": {}
   },
   "outputs": [
    {
     "data": {
      "text/markdown": [
       "Based on the thoughts and pathways evaluated, it is clear that there are several limitations and complexities involved in creating a comprehensive supply chain power dynamics map for ASML. The data provided appears to be simplified, and the private nature of the company makes it challenging to obtain their internal information.\n",
       "\n",
       "To create such a map, it would be necessary to gather more detailed information on the specific roles and influence of different stakeholders within ASML's supply chain. Additionally, considering the potential complexity of multiple tiers of suppliers, customers, and partners could also impact the overall power dynamics.\n",
       "\n",
       "Furthermore, analyzing how ASML's power dynamics map relates to their business performance and market position could provide valuable insights into the company's operations.\n",
       "\n",
       "However, without access to internal data or more detailed information on the supply chain, it is not possible to create a comprehensive supply chain power dynamics map for ASML at this time."
      ],
      "text/plain": [
       "<IPython.core.display.Markdown object>"
      ]
     },
     "metadata": {},
     "output_type": "display_data"
    }
   ],
   "source": [
    "\n",
    "display(Markdown(synthesis))"
   ]
  },
  {
   "cell_type": "markdown",
   "metadata": {},
   "source": [
    "## Formulate Conclusions"
   ]
  },
  {
   "cell_type": "code",
   "execution_count": 14,
   "metadata": {
    "metadata": {}
   },
   "outputs": [
    {
     "data": {
      "text/markdown": [
       "**Supply Chain Power Dynamics Map of ASML**\n",
       "\n",
       "As discussed earlier, creating a comprehensive supply chain power dynamics map for ASML is challenging due to the private nature of the company and limited information available. However, based on the simplified data provided, we can attempt to create a basic map that highlights some of the key stakeholders involved in ASML's supply chain.\n",
       "\n",
       "**Nodes:**\n",
       "\n",
       "1. **ASML**: The company itself, representing the central node in the power dynamics map.\n",
       "2. **Suppliers**: Companies that provide goods and services to ASML, such as semiconductor manufacturers or equipment suppliers.\n",
       "3. **Customers**: Companies that purchase products from ASML, including original equipment manufacturers (OEMs) and end-users.\n",
       "4. **Partners**: Companies that collaborate with ASML on research and development, manufacturing, or other initiatives.\n",
       "5. **Competitors**: Other companies in the semiconductor industry that compete with ASML for market share.\n",
       "\n",
       "**Links:**\n",
       "\n",
       "1. **ASML → Suppliers**: ASML purchases goods and services from its suppliers to support its operations.\n",
       "2. **Suppliers → ASML**: Suppliers provide products and services to ASML, which are used in the production of semiconductors and other technologies.\n",
       "3. **ASML → Customers**: ASML sells its products to customers, including OEMs and end-users.\n",
       "4. **Customers → ASML**: Customers purchase products from ASML, driving demand for its goods and services.\n",
       "5. **Partners → ASML**: Partners collaborate with ASML on various initiatives, such as research and development or manufacturing projects.\n",
       "6. **ASML → Competitors**: ASML competes with other companies in the semiconductor industry for market share and customers.\n",
       "\n",
       "**Power Dynamics:**\n",
       "\n",
       "While this simplified map provides some insight into the stakeholders involved in ASML's supply chain, it does not capture the complex power dynamics that exist between these nodes. To create a more comprehensive map, we would need to gather more detailed information on the specific roles and influence of each stakeholder within ASML's supply chain.\n",
       "\n",
       "**Limitations:**\n",
       "\n",
       "1. **Limited data**: The simplified data provided does not provide sufficient information to create a comprehensive power dynamics map.\n",
       "2. **Private company**: ASML is a private company, making it challenging to obtain internal information or access to its supply chain.\n",
       "3. **Complexity**: ASML's supply chain may involve multiple tiers of suppliers, customers, and partners, which could add complexity to the power dynamics.\n",
       "\n",
       "**Future Research Directions:**\n",
       "\n",
       "1. **Analyzing external influences**: Investigate how market trends, technological advancements, and global events impact ASML's power dynamics.\n",
       "2. **Exploring stakeholder roles**: Delve deeper into the specific roles and influence of each stakeholder within ASML's supply chain.\n",
       "3. **Examining business performance**: Analyze how ASML's power dynamics relate to its business performance and market position.\n",
       "\n",
       "In conclusion, while we can attempt to create a basic supply chain power dynamics map for ASML based on limited data, the private nature of the company and complexity of its supply chain make it challenging to create a comprehensive map. Future research directions could provide valuable insights into ASML's operations and power dynamics."
      ],
      "text/plain": [
       "<IPython.core.display.Markdown object>"
      ]
     },
     "metadata": {},
     "output_type": "display_data"
    }
   ],
   "source": [
    "prompt_formulate = ChatPromptTemplate.from_template(\"\"\"\n",
    "## 5. Formulate answer:\n",
    "    Given the synthesized data, please formulate a final answer to the question: {question}.\n",
    "    DO be specific with names of companies, suppliers and products.\n",
    "    DO give product names and ingredients.\n",
    "    DO only formulate the final answer to the user.\n",
    "    DO create a comprehensive and engaging article that supplychain professionals would find intresting.\n",
    "    DO use 2000 words using markdown syntax, with sections and subsections.\n",
    "    DO write a paragraph for each thought and evaluation pathline\n",
    "    DO NOT give any URL's or links as references\n",
    "\n",
    "### Thoughts                                   \n",
    "{thoughts} \n",
    "\n",
    "### Evaluation                                   \n",
    "{evaluation}\n",
    "\n",
    "### Synthesis                                   \n",
    "{synthesis}\n",
    "                                                         \n",
    "### Question\n",
    "{question}\n",
    "\n",
    "\"\"\")\n",
    "\n",
    "chain_formulate  = prompt_formulate | llm | StrOutputParser()\n",
    "formulatedoutput = chain_formulate.invoke({\n",
    "    \"synthesis\": synthesis,\n",
    "    \"thoughts\": listOfThoughts,\n",
    "    \"evaluation\": evaluation,\n",
    "    \"question\": question\n",
    "    })\n",
    "\n",
    "display(Markdown(formulatedoutput))"
   ]
  },
  {
   "cell_type": "code",
   "execution_count": 15,
   "metadata": {
    "metadata": {}
   },
   "outputs": [
    {
     "data": {
      "text/markdown": [
       "Here is the formulated output:\n",
       "\n",
       "**Supply Chain Power Dynamics Map of ASML**\n",
       "\n",
       "* **Nodes:**\n",
       "\t1. **ASML**: The company itself, representing the central node in the power dynamics map.\n",
       "\t2. **Suppliers**: Companies that provide goods and services to ASML, such as semiconductor manufacturers or equipment suppliers.\n",
       "\t3. **Customers**: Companies that purchase products from ASML, including original equipment manufacturers (OEMs) and end-users.\n",
       "\t4. **Partners**: Companies that collaborate with ASML on research and development, manufacturing, or other initiatives.\n",
       "\t5. **Competitors**: Other companies in the semiconductor industry that compete with ASML for market share.\n",
       "\n",
       "* **Links:**\n",
       "\t1. **ASML → Suppliers**: ASML purchases goods and services from its suppliers to support its operations.\n",
       "\t2. **Suppliers → ASML**: Suppliers provide products and services to ASML, which are used in the production of semiconductors and other technologies.\n",
       "\t3. **ASML → Customers**: ASML sells its products to customers, including OEMs and end-users.\n",
       "\t4. **Customers → ASML**: Customers purchase products from ASML, driving demand for its goods and services.\n",
       "\t5. **Partners → ASML**: Partners collaborate with ASML on various initiatives, such as research and development or manufacturing projects.\n",
       "\t6. **ASML → Competitors**: ASML competes with other companies in the semiconductor industry for market share and customers.\n",
       "\n",
       "* **Power Dynamics:** (Note: This is a simplified representation of the power dynamics map, as more detailed information is needed to create a comprehensive map.)\n",
       "\n",
       "Here is the Graviz diagram syntax:\n",
       "```\n",
       "digraph ASML_Supply_Chain {\n",
       "    node[shape=box, style=filled];\n",
       "    ASML[label=\"ASML\"];\n",
       "    Suppliers[label=\"Suppliers\"];\n",
       "    Customers[label=\"Customers\"];\n",
       "    Partners[label=\"Partners\"];\n",
       "    Competitors[label=\"Competitors\"];\n",
       "\n",
       "    ASML -> Suppliers [label=\"Purchases goods and services\"];\n",
       "    Suppliers -> ASML [label=\"Provides products and services\"];\n",
       "    ASML -> Customers [label=\"Sells products\"];\n",
       "    Customers -> ASML [label=\"Drives demand\"];\n",
       "    Partners -> ASML [label=\"Collaborates on initiatives\"];\n",
       "    ASML -> Competitors [label=\"Competes for market share\"];\n",
       "}\n",
       "```\n",
       "Please note that this is a simplified representation of the supply chain power dynamics map, and more detailed information would be needed to create a comprehensive map."
      ],
      "text/plain": [
       "<IPython.core.display.Markdown object>"
      ]
     },
     "metadata": {},
     "output_type": "display_data"
    }
   ],
   "source": [
    "prompt_diagram = ChatPromptTemplate.from_template(\"\"\"\n",
    "## 5. Formulate answer:\n",
    "    Given the synthesized data, please make a final answer to the question: {question}.\n",
    "    DO be specific with names of companies, suppliers and products.\n",
    "    DO give product names and ingredients.\n",
    "    DO ONLY formulate the final answer to the user.\n",
    "    DO ONLY produce a graviz diagram of the supplychain\n",
    "    Make sure the graviz syntax is valid\n",
    "   \n",
    "\n",
    "### Thoughts                                   \n",
    "{thoughts} \n",
    "\n",
    "### Evaluation                                   \n",
    "{evaluation}\n",
    "\n",
    "### Synthesis                                   \n",
    "{synthesis}\n",
    "\n",
    "### Formulated output                                   \n",
    "{formulatedoutput}\n",
    "                                                         \n",
    "### Question\n",
    "{question}\n",
    "\n",
    "\"\"\")\n",
    "\n",
    "chain_diagram  = prompt_diagram | llm | StrOutputParser()\n",
    "diagram = chain_diagram.invoke({\n",
    "    \"synthesis\": synthesis,\n",
    "    \"thoughts\": listOfThoughts,\n",
    "    \"evaluation\": evaluation,\n",
    "    \"formulatedoutput\": formulatedoutput,\n",
    "    \"question\": question\n",
    "    })\n",
    "\n",
    "display(Markdown(diagram))"
   ]
  },
  {
   "cell_type": "code",
   "execution_count": 16,
   "metadata": {
    "metadata": {}
   },
   "outputs": [
    {
     "data": {
      "text/plain": [
       "\"Based on the thoughts and pathways evaluated, it is clear that there are several limitations and complexities involved in creating a comprehensive supply chain power dynamics map for ASML. The data provided appears to be simplified, and the private nature of the company makes it challenging to obtain their internal information.\\n\\nTo create such a map, it would be necessary to gather more detailed information on the specific roles and influence of different stakeholders within ASML's supply chain. Additionally, considering the potential complexity of multiple tiers of suppliers, customers, and partners could also impact the overall power dynamics.\\n\\nFurthermore, analyzing how ASML's power dynamics map relates to their business performance and market position could provide valuable insights into the company's operations.\\n\\nHowever, without access to internal data or more detailed information on the supply chain, it is not possible to create a comprehensive supply chain power dynamics map for ASML at this time.\""
      ]
     },
     "execution_count": 16,
     "metadata": {},
     "output_type": "execute_result"
    }
   ],
   "source": [
    "synthesis"
   ]
  }
 ],
 "metadata": {
  "kernelspec": {
   "display_name": "unsloth_env",
   "language": "python",
   "name": "python3"
  },
  "language_info": {
   "codemirror_mode": {
    "name": "ipython",
    "version": 3
   },
   "file_extension": ".py",
   "mimetype": "text/x-python",
   "name": "python",
   "nbconvert_exporter": "python",
   "pygments_lexer": "ipython3",
   "version": "3.10.12"
  }
 },
 "nbformat": 4,
 "nbformat_minor": 2
}
