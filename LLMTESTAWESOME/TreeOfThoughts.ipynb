{
 "cells": [
  {
   "cell_type": "code",
   "execution_count": 1,
   "metadata": {
    "metadata": {}
   },
   "outputs": [
    {
     "name": "stdout",
     "output_type": "stream",
     "text": [
      "Defaulting to user installation because normal site-packages is not writeable\n",
      "Requirement already satisfied: langchain in /home/chris/.local/lib/python3.10/site-packages (0.1.20)\n",
      "Requirement already satisfied: langchain_community in /home/chris/.local/lib/python3.10/site-packages (0.0.38)\n",
      "Requirement already satisfied: dataclasses-json<0.7,>=0.5.7 in /home/chris/.local/lib/python3.10/site-packages (from langchain) (0.6.6)\n",
      "Requirement already satisfied: async-timeout<5.0.0,>=4.0.0 in /home/chris/.local/lib/python3.10/site-packages (from langchain) (4.0.3)\n",
      "Requirement already satisfied: numpy<2,>=1 in /home/chris/.local/lib/python3.10/site-packages (from langchain) (1.26.4)\n",
      "Requirement already satisfied: langchain-core<0.2.0,>=0.1.52 in /home/chris/.local/lib/python3.10/site-packages (from langchain) (0.1.52)\n",
      "Requirement already satisfied: SQLAlchemy<3,>=1.4 in /home/chris/.local/lib/python3.10/site-packages (from langchain) (2.0.30)\n",
      "Requirement already satisfied: langsmith<0.2.0,>=0.1.17 in /home/chris/.local/lib/python3.10/site-packages (from langchain) (0.1.57)\n",
      "Requirement already satisfied: langchain-text-splitters<0.1,>=0.0.1 in /home/chris/.local/lib/python3.10/site-packages (from langchain) (0.0.1)\n",
      "Requirement already satisfied: pydantic<3,>=1 in /home/chris/.local/lib/python3.10/site-packages (from langchain) (2.7.1)\n",
      "Requirement already satisfied: PyYAML>=5.3 in /usr/lib/python3/dist-packages (from langchain) (5.4.1)\n",
      "Requirement already satisfied: requests<3,>=2 in /home/chris/.local/lib/python3.10/site-packages (from langchain) (2.31.0)\n",
      "Requirement already satisfied: tenacity<9.0.0,>=8.1.0 in /home/chris/.local/lib/python3.10/site-packages (from langchain) (8.3.0)\n",
      "Requirement already satisfied: aiohttp<4.0.0,>=3.8.3 in /home/chris/.local/lib/python3.10/site-packages (from langchain) (3.9.5)\n",
      "Requirement already satisfied: frozenlist>=1.1.1 in /home/chris/.local/lib/python3.10/site-packages (from aiohttp<4.0.0,>=3.8.3->langchain) (1.4.1)\n",
      "Requirement already satisfied: aiosignal>=1.1.2 in /home/chris/.local/lib/python3.10/site-packages (from aiohttp<4.0.0,>=3.8.3->langchain) (1.3.1)\n",
      "Requirement already satisfied: yarl<2.0,>=1.0 in /home/chris/.local/lib/python3.10/site-packages (from aiohttp<4.0.0,>=3.8.3->langchain) (1.9.4)\n",
      "Requirement already satisfied: attrs>=17.3.0 in /home/chris/.local/lib/python3.10/site-packages (from aiohttp<4.0.0,>=3.8.3->langchain) (23.2.0)\n",
      "Requirement already satisfied: multidict<7.0,>=4.5 in /home/chris/.local/lib/python3.10/site-packages (from aiohttp<4.0.0,>=3.8.3->langchain) (6.0.5)\n",
      "Requirement already satisfied: typing-inspect<1,>=0.4.0 in /home/chris/.local/lib/python3.10/site-packages (from dataclasses-json<0.7,>=0.5.7->langchain) (0.9.0)\n",
      "Requirement already satisfied: marshmallow<4.0.0,>=3.18.0 in /home/chris/.local/lib/python3.10/site-packages (from dataclasses-json<0.7,>=0.5.7->langchain) (3.21.2)\n",
      "Requirement already satisfied: packaging<24.0,>=23.2 in /home/chris/.local/lib/python3.10/site-packages (from langchain-core<0.2.0,>=0.1.52->langchain) (23.2)\n",
      "Requirement already satisfied: jsonpatch<2.0,>=1.33 in /home/chris/.local/lib/python3.10/site-packages (from langchain-core<0.2.0,>=0.1.52->langchain) (1.33)\n",
      "Requirement already satisfied: orjson<4.0.0,>=3.9.14 in /home/chris/.local/lib/python3.10/site-packages (from langsmith<0.2.0,>=0.1.17->langchain) (3.10.3)\n",
      "Requirement already satisfied: annotated-types>=0.4.0 in /home/chris/.local/lib/python3.10/site-packages (from pydantic<3,>=1->langchain) (0.6.0)\n",
      "Requirement already satisfied: typing-extensions>=4.6.1 in /home/chris/.local/lib/python3.10/site-packages (from pydantic<3,>=1->langchain) (4.11.0)\n",
      "Requirement already satisfied: pydantic-core==2.18.2 in /home/chris/.local/lib/python3.10/site-packages (from pydantic<3,>=1->langchain) (2.18.2)\n",
      "Requirement already satisfied: charset-normalizer<4,>=2 in /home/chris/.local/lib/python3.10/site-packages (from requests<3,>=2->langchain) (3.3.2)\n",
      "Requirement already satisfied: idna<4,>=2.5 in /home/chris/.local/lib/python3.10/site-packages (from requests<3,>=2->langchain) (3.7)\n",
      "Requirement already satisfied: urllib3<3,>=1.21.1 in /home/chris/.local/lib/python3.10/site-packages (from requests<3,>=2->langchain) (2.2.1)\n",
      "Requirement already satisfied: certifi>=2017.4.17 in /home/chris/.local/lib/python3.10/site-packages (from requests<3,>=2->langchain) (2024.2.2)\n",
      "Requirement already satisfied: greenlet!=0.4.17 in /home/chris/.local/lib/python3.10/site-packages (from SQLAlchemy<3,>=1.4->langchain) (3.0.3)\n",
      "Requirement already satisfied: jsonpointer>=1.9 in /home/chris/.local/lib/python3.10/site-packages (from jsonpatch<2.0,>=1.33->langchain-core<0.2.0,>=0.1.52->langchain) (2.4)\n",
      "Requirement already satisfied: mypy-extensions>=0.3.0 in /home/chris/.local/lib/python3.10/site-packages (from typing-inspect<1,>=0.4.0->dataclasses-json<0.7,>=0.5.7->langchain) (1.0.0)\n",
      "Note: you may need to restart the kernel to use updated packages.\n"
     ]
    }
   ],
   "source": [
    "%pip install langchain langchain_community "
   ]
  },
  {
   "cell_type": "code",
   "execution_count": 2,
   "metadata": {
    "metadata": {}
   },
   "outputs": [],
   "source": [
    "from langchain.prompts import ChatPromptTemplate, PromptTemplate\n",
    "from langchain_community.llms.ollama import Ollama\n",
    "from langchain.llms.openai import OpenAIChat\n",
    "from langchain_core.output_parsers.string import StrOutputParser\n",
    "import pandas as pd\n",
    "from IPython.display import display, Markdown\n",
    "llm = Ollama(model=\"phi3:latest\", num_ctx=4096, num_predict=1024, temperature=0.1)\n",
    "#llm = OpenAIChat(model=\"gpt-4\", temperature=0.1)"
   ]
  },
  {
   "cell_type": "code",
   "execution_count": 3,
   "metadata": {
    "metadata": {}
   },
   "outputs": [],
   "source": [
    "question = \"How to establish the genealogy of the families in the graph?\""
   ]
  },
  {
   "cell_type": "markdown",
   "metadata": {},
   "source": [
    "# Tree of thoughts"
   ]
  },
  {
   "cell_type": "code",
   "execution_count": 4,
   "metadata": {
    "metadata": {}
   },
   "outputs": [
    {
     "name": "stdout",
     "output_type": "stream",
     "text": [
      "Graph length: 7352\n"
     ]
    }
   ],
   "source": [
    "import json\n",
    "\n",
    "def load_graph(file):\n",
    "    with open(file) as f:\n",
    "        data = json.load(f)\n",
    "\n",
    "    text = \"```mermaid\\ngraph LR\\n\"\n",
    "    for item in data[\"links\"]:\n",
    "        text += f'\\t{item[\"source\"]} -- {item[\"value\"]} --> {item[\"target\"]}\\n'\n",
    "    text += \"```\"\n",
    "    return text\n",
    "text = load_graph(\"miserables_1.json\")\n",
    "\n",
    "graph_length = len(text)\n",
    "\n",
    "print(f\"Graph length: {graph_length}\")\n"
   ]
  },
  {
   "cell_type": "markdown",
   "metadata": {},
   "source": [
    "```mermaid\n",
    "graph LR;\n",
    "    A[Process Inputs] --> B[Create Thoughts];\n",
    "    B --> C[Evaluate Pathways];\n",
    "    C --> D[Summarize Results];\n",
    "    D --> E[Formulate Conclusions];\n",
    "```"
   ]
  },
  {
   "cell_type": "code",
   "execution_count": 5,
   "metadata": {
    "metadata": {}
   },
   "outputs": [
    {
     "data": {
      "text/plain": [
       "'```mermaid\\ngraph LR\\n\\tNapoleon -- 1 --> Myriel\\n\\tMlle.Baptistine -- 8 --> Myriel\\n\\tMme.Magloire -- 10 --> Myriel\\n\\tMme.Magloire -- 6 --> Mlle.Baptistine\\n\\tCountessdeLo -- 1 --> Myriel\\n\\tGeborand -- 1 --> Myriel\\n\\tChamptercier -- 1 --> Myriel\\n\\tCravatte -- 1 --> Myriel\\n\\tCount -- 2 --> Myriel\\n\\tOldMan -- 1 --> Myriel\\n\\tValjean -- 1 --> Labarre\\n\\tValjean -- 3 --> Mme.Magloire\\n\\tValjean -- 3 --> Mlle.Baptistine\\n\\tValjean -- 5 --> Myriel\\n\\tMarguerite -- 1 --> Valjean\\n\\tMme.deR -- 1 --> Valjean\\n\\tIsabeau -- 1 --> Valjean\\n\\tGervais -- 1 --> Valjean\\n\\tListolier -- 4 --> Tholomyes\\n\\tFameuil -- 4 --> Tholomyes\\n\\tFameuil -- 4 --> Listolier\\n\\tBlacheville -- 4 --> Tholomyes\\n\\tBlacheville -- 4 --> Listolier\\n\\tBlacheville -- 4 --> Fameuil\\n\\tFavourite -- 3 --> Tholomyes\\n\\tFavourite -- 3 --> Listolier\\n\\tFavourite -- 3 --> Fameuil\\n\\tFavourite -- 4 --> Blacheville\\n\\tDahlia -- 3 --> Tholomyes\\n\\tDahlia -- 3 --> Listolier\\n\\tDahlia -- 3 --> Fameuil\\n\\tDahlia -- 3 --> Blacheville\\n\\tDahlia -- 5 --> Favourite\\n\\tZephine -- 3 --> Tholomyes\\n\\tZephine -- 3 --> Listolier\\n\\tZephine -- 3 --> Fameuil\\n\\tZephine -- 3 --> Blacheville\\n\\tZephine -- 4 --> Favourite\\n\\tZephine -- 4 --> Dahlia\\n\\tFantine -- 3 --> Tholomyes\\n\\tFantine -- 3 --> Listolier\\n\\tFantine -- 3 --> Fameuil\\n\\tFantine -- 3 --> Blacheville\\n\\tFantine -- 4 --> Favourite\\n\\tFantine -- 4 --> Dahlia\\n\\tFantine -- 4 --> Zephine\\n\\tFantine -- 2 --> Marguerite\\n\\tFantine -- 9 --> Valjean\\n\\tMme.Thenardier -- 2 --> Fantine\\n\\tMme.Thenardier -- 7 --> Valjean\\n\\tThenardier -- 13 --> Mme.Thenardier\\n\\tThenardier -- 1 --> Fantine\\n\\tThenardier -- 12 --> Valjean\\n\\tCosette -- 4 --> Mme.Thenardier\\n\\tCosette -- 31 --> Valjean\\n\\tCosette -- 1 --> Tholomyes\\n\\tCosette -- 1 --> Thenardier\\n\\tJavert -- 17 --> Valjean\\n\\tJavert -- 5 --> Fantine\\n\\tJavert -- 5 --> Thenardier\\n\\tJavert -- 1 --> Mme.Thenardier\\n\\tJavert -- 1 --> Cosette\\n\\tFauchelevent -- 8 --> Valjean\\n\\tFauchelevent -- 1 --> Javert\\n\\tBamatabois -- 1 --> Fantine\\n\\tBamatabois -- 1 --> Javert\\n\\tBamatabois -- 2 --> Valjean\\n\\tPerpetue -- 1 --> Fantine\\n\\tSimplice -- 2 --> Perpetue\\n\\tSimplice -- 3 --> Valjean\\n\\tSimplice -- 2 --> Fantine\\n\\tSimplice -- 1 --> Javert\\n\\tScaufflaire -- 1 --> Valjean\\n\\tWoman1 -- 2 --> Valjean\\n\\tWoman1 -- 1 --> Javert\\n\\tJudge -- 3 --> Valjean\\n\\tJudge -- 2 --> Bamatabois\\n\\tChampmathieu -- 3 --> Valjean\\n\\tChampmathieu -- 3 --> Judge\\n\\tChampmathieu -- 2 --> Bamatabois\\n\\tBrevet -- 2 --> Judge\\n\\tBrevet -- 2 --> Champmathieu\\n\\tBrevet -- 2 --> Valjean\\n\\tBrevet -- 1 --> Bamatabois\\n\\tChenildieu -- 2 --> Judge\\n\\tChenildieu -- 2 --> Champmathieu\\n\\tChenildieu -- 2 --> Brevet\\n\\tChenildieu -- 2 --> Valjean\\n\\tChenildieu -- 1 --> Bamatabois\\n\\tCochepaille -- 2 --> Judge\\n\\tCochepaille -- 2 --> Champmathieu\\n\\tCochepaille -- 2 --> Brevet\\n\\tCochepaille -- 2 --> Chenildieu\\n\\tCochepaille -- 2 --> Valjean\\n\\tCochepaille -- 1 --> Bamatabois\\n\\tPontmercy -- 1 --> Thenardier\\n\\tBoulatruelle -- 1 --> Thenardier\\n\\tEponine -- 2 --> Mme.Thenardier\\n\\tEponine -- 3 --> Thenardier\\n\\tAnzelma -- 2 --> Eponine\\n\\tAnzelma -- 2 --> Thenardier\\n\\tAnzelma -- 1 --> Mme.Thenardier\\n\\tWoman2 -- 3 --> Valjean\\n\\tWoman2 -- 1 --> Cosette\\n\\tWoman2 -- 1 --> Javert\\n\\tMotherInnocent -- 3 --> Fauchelevent\\n\\tMotherInnocent -- 1 --> Valjean\\n\\tGribier -- 2 --> Fauchelevent\\n\\tMme.Burgon -- 1 --> Jondrette\\n\\tGavroche -- 2 --> Mme.Burgon\\n\\tGavroche -- 1 --> Thenardier\\n\\tGavroche -- 1 --> Javert\\n\\tGavroche -- 1 --> Valjean\\n\\tGillenormand -- 3 --> Cosette\\n\\tGillenormand -- 2 --> Valjean\\n\\tMagnon -- 1 --> Gillenormand\\n\\tMagnon -- 1 --> Mme.Thenardier\\n\\tMlle.Gillenormand -- 9 --> Gillenormand\\n\\tMlle.Gillenormand -- 2 --> Cosette\\n\\tMlle.Gillenormand -- 2 --> Valjean\\n\\tMme.Pontmercy -- 1 --> Mlle.Gillenormand\\n\\tMme.Pontmercy -- 1 --> Pontmercy\\n\\tMlle.Vaubois -- 1 --> Mlle.Gillenormand\\n\\tLt.Gillenormand -- 2 --> Mlle.Gillenormand\\n\\tLt.Gillenormand -- 1 --> Gillenormand\\n\\tLt.Gillenormand -- 1 --> Cosette\\n\\tMarius -- 6 --> Mlle.Gillenormand\\n\\tMarius -- 12 --> Gillenormand\\n\\tMarius -- 1 --> Pontmercy\\n\\tMarius -- 1 --> Lt.Gillenormand\\n\\tMarius -- 21 --> Cosette\\n\\tMarius -- 19 --> Valjean\\n\\tMarius -- 1 --> Tholomyes\\n\\tMarius -- 2 --> Thenardier\\n\\tMarius -- 5 --> Eponine\\n\\tMarius -- 4 --> Gavroche\\n\\tBaronessT -- 1 --> Gillenormand\\n\\tBaronessT -- 1 --> Marius\\n\\tMabeuf -- 1 --> Marius\\n\\tMabeuf -- 1 --> Eponine\\n\\tMabeuf -- 1 --> Gavroche\\n\\tEnjolras -- 7 --> Marius\\n\\tEnjolras -- 7 --> Gavroche\\n\\tEnjolras -- 6 --> Javert\\n\\tEnjolras -- 1 --> Mabeuf\\n\\tEnjolras -- 4 --> Valjean\\n\\tCombeferre -- 15 --> Enjolras\\n\\tCombeferre -- 5 --> Marius\\n\\tCombeferre -- 6 --> Gavroche\\n\\tCombeferre -- 2 --> Mabeuf\\n\\tProuvaire -- 1 --> Gavroche\\n\\tProuvaire -- 4 --> Enjolras\\n\\tProuvaire -- 2 --> Combeferre\\n\\tFeuilly -- 2 --> Gavroche\\n\\tFeuilly -- 6 --> Enjolras\\n\\tFeuilly -- 2 --> Prouvaire\\n\\tFeuilly -- 5 --> Combeferre\\n\\tFeuilly -- 1 --> Mabeuf\\n\\tFeuilly -- 1 --> Marius\\n\\tCourfeyrac -- 9 --> Marius\\n\\tCourfeyrac -- 17 --> Enjolras\\n\\tCourfeyrac -- 13 --> Combeferre\\n\\tCourfeyrac -- 7 --> Gavroche\\n\\tCourfeyrac -- 2 --> Mabeuf\\n\\tCourfeyrac -- 1 --> Eponine\\n\\tCourfeyrac -- 6 --> Feuilly\\n\\tCourfeyrac -- 3 --> Prouvaire\\n\\tBahorel -- 5 --> Combeferre\\n\\tBahorel -- 5 --> Gavroche\\n\\tBahorel -- 6 --> Courfeyrac\\n\\tBahorel -- 2 --> Mabeuf\\n\\tBahorel -- 4 --> Enjolras\\n\\tBahorel -- 3 --> Feuilly\\n\\tBahorel -- 2 --> Prouvaire\\n\\tBahorel -- 1 --> Marius\\n\\tBossuet -- 5 --> Marius\\n\\tBossuet -- 12 --> Courfeyrac\\n\\tBossuet -- 5 --> Gavroche\\n\\tBossuet -- 4 --> Bahorel\\n\\tBossuet -- 10 --> Enjolras\\n\\tBossuet -- 6 --> Feuilly\\n\\tBossuet -- 2 --> Prouvaire\\n\\tBossuet -- 9 --> Combeferre\\n\\tBossuet -- 1 --> Mabeuf\\n\\tBossuet -- 1 --> Valjean\\n\\tJoly -- 5 --> Bahorel\\n\\tJoly -- 7 --> Bossuet\\n\\tJoly -- 3 --> Gavroche\\n\\tJoly -- 5 --> Courfeyrac\\n\\tJoly -- 5 --> Enjolras\\n\\tJoly -- 5 --> Feuilly\\n\\tJoly -- 2 --> Prouvaire\\n\\tJoly -- 5 --> Combeferre\\n\\tJoly -- 1 --> Mabeuf\\n\\tJoly -- 2 --> Marius\\n\\tGrantaire -- 3 --> Bossuet\\n\\tGrantaire -- 3 --> Enjolras\\n\\tGrantaire -- 1 --> Combeferre\\n\\tGrantaire -- 2 --> Courfeyrac\\n\\tGrantaire -- 2 --> Joly\\n\\tGrantaire -- 1 --> Gavroche\\n\\tGrantaire -- 1 --> Bahorel\\n\\tGrantaire -- 1 --> Feuilly\\n\\tGrantaire -- 1 --> Prouvaire\\n\\tMotherPlutarch -- 3 --> Mabeuf\\n\\tGueulemer -- 5 --> Thenardier\\n\\tGueulemer -- 1 --> Valjean\\n\\tGueulemer -- 1 --> Mme.Thenardier\\n\\tGueulemer -- 1 --> Javert\\n\\tGueulemer -- 1 --> Gavroche\\n\\tGueulemer -- 1 --> Eponine\\n\\tBabet -- 6 --> Thenardier\\n\\tBabet -- 6 --> Gueulemer\\n\\tBabet -- 1 --> Valjean\\n\\tBabet -- 1 --> Mme.Thenardier\\n\\tBabet -- 2 --> Javert\\n\\tBabet -- 1 --> Gavroche\\n\\tBabet -- 1 --> Eponine\\n\\tClaquesous -- 4 --> Thenardier\\n\\tClaquesous -- 4 --> Babet\\n\\tClaquesous -- 4 --> Gueulemer\\n\\tClaquesous -- 1 --> Valjean\\n\\tClaquesous -- 1 --> Mme.Thenardier\\n\\tClaquesous -- 1 --> Javert\\n\\tClaquesous -- 1 --> Eponine\\n\\tClaquesous -- 1 --> Enjolras\\n\\tMontparnasse -- 1 --> Javert\\n\\tMontparnasse -- 2 --> Babet\\n\\tMontparnasse -- 2 --> Gueulemer\\n\\tMontparnasse -- 2 --> Claquesous\\n\\tMontparnasse -- 1 --> Valjean\\n\\tMontparnasse -- 1 --> Gavroche\\n\\tMontparnasse -- 1 --> Eponine\\n\\tMontparnasse -- 1 --> Thenardier\\n\\tToussaint -- 2 --> Cosette\\n\\tToussaint -- 1 --> Javert\\n\\tToussaint -- 1 --> Valjean\\n\\tChild1 -- 2 --> Gavroche\\n\\tChild2 -- 2 --> Gavroche\\n\\tChild2 -- 3 --> Child1\\n\\tBrujon -- 3 --> Babet\\n\\tBrujon -- 3 --> Gueulemer\\n\\tBrujon -- 3 --> Thenardier\\n\\tBrujon -- 1 --> Gavroche\\n\\tBrujon -- 1 --> Eponine\\n\\tBrujon -- 1 --> Claquesous\\n\\tBrujon -- 1 --> Montparnasse\\n\\tMme.Hucheloup -- 1 --> Bossuet\\n\\tMme.Hucheloup -- 1 --> Joly\\n\\tMme.Hucheloup -- 1 --> Grantaire\\n\\tMme.Hucheloup -- 1 --> Bahorel\\n\\tMme.Hucheloup -- 1 --> Courfeyrac\\n\\tMme.Hucheloup -- 1 --> Gavroche\\n\\tMme.Hucheloup -- 1 --> Enjolras\\n```'"
      ]
     },
     "metadata": {},
     "output_type": "display_data"
    }
   ],
   "source": [
    "#display(Markdown(text))\n",
    "display(text)"
   ]
  },
  {
   "cell_type": "markdown",
   "metadata": {},
   "source": [
    "# Process inputs"
   ]
  },
  {
   "cell_type": "code",
   "execution_count": 6,
   "metadata": {
    "metadata": {}
   },
   "outputs": [],
   "source": [
    "prompt_process_inputs = PromptTemplate.from_template(\"\"\"\n",
    "## 1. Process inputs:\n",
    "    Given the following data, expressed as Mermaid graph. \n",
    "    Please count the number of nodes and links in the graph.\n",
    "### Graph\n",
    "```mermaid\n",
    "{graph}\n",
    "```\n",
    "### Question\n",
    "{question}\n",
    "                                                         \n",
    "\"\"\")\n",
    "\n",
    "chain  = prompt_process_inputs | llm | StrOutputParser()"
   ]
  },
  {
   "cell_type": "code",
   "execution_count": 7,
   "metadata": {
    "metadata": {}
   },
   "outputs": [
    {
     "data": {
      "text/markdown": [
       "\n",
       "\n",
       "\n",
       "\n",
       "\n",
       "\n",
       "\n",
       "\n",
       "\n",
       "\n",
       "--\n",
       "\n",
       "\n",
       "\n",
       "\n",
       "\n",
       "\n",
       "\n",
       "\n",
       "\n",
       "\n",
       "\n",
       "\n",
       "\n",
       "\n",
       "\n",
       "\n",
       "\n",
       "\n",
       "\n",
       "\n",
       "\n",
       "\n",
       " (-\n",
       "\n",
       "\n",
       "\n",
       "\n",
       "\n",
       "\n",
       "\n",
       "\n",
       "\n",
       "\n",
       "\n",
       "\n",
       "\n",
       "\n",
       "\n",
       "\n",
       "\n",
       "\n",
       "\n",
       "\n",
       "\n",
       "\n",
       "\n",
       "\n",
       "\n",
       "\n",
       "\n",
       "\n",
       "\n",
       "\n"
      ],
      "text/plain": [
       "<IPython.core.display.Markdown object>"
      ]
     },
     "metadata": {},
     "output_type": "display_data"
    }
   ],
   "source": [
    "processedData =  chain.invoke({\n",
    "    \"graph\": text,\n",
    "    \"question\": question\n",
    "})\n",
    "\n",
    "display(Markdown(processedData))"
   ]
  },
  {
   "cell_type": "markdown",
   "metadata": {},
   "source": [
    "# List Toughts"
   ]
  },
  {
   "cell_type": "code",
   "execution_count": 8,
   "metadata": {
    "metadata": {}
   },
   "outputs": [],
   "source": [
    "prompt_create_toughts = ChatPromptTemplate.from_template(\"\"\"\n",
    "## 2. Create list of toughts:\n",
    "    Given the processed data, please create a list of toughts that you have about the data.\n",
    "    Only list the that are relevant to the data and user question: {question}\n",
    "    Do not answer the question yet.\n",
    "    Please format your output as a 'JSON' array of strings.\n",
    "### Processed data\n",
    "{data}\n",
    "                                                         \n",
    "### Question\n",
    "{question}\n",
    "                                                         \n",
    "\"\"\")\n",
    "\n",
    "chain_toughts  = prompt_create_toughts | llm | StrOutputParser()"
   ]
  },
  {
   "cell_type": "code",
   "execution_count": 9,
   "metadata": {
    "metadata": {}
   },
   "outputs": [],
   "source": [
    "listOfThoughts = chain_toughts.invoke({\n",
    "    \"data\": processedData,\n",
    "    \"question\": question\n",
    "    })"
   ]
  },
  {
   "cell_type": "code",
   "execution_count": 10,
   "metadata": {
    "metadata": {}
   },
   "outputs": [
    {
     "data": {
      "text/markdown": [
       "```json\n",
       "[\n",
       "  \"Identify common ancestors within the graph\",\n",
       "  \"Analyze family relationships and connections between nodes\",\n",
       "  \"Use genetic markers or historical records for verification\",\n",
       "  \"Create a hierarchical structure based on lineage data\",\n",
       "  \"Consider adoptions, marriages, and other legal ties in genealogy\"\n",
       "]\n",
       "```"
      ],
      "text/plain": [
       "<IPython.core.display.Markdown object>"
      ]
     },
     "metadata": {},
     "output_type": "display_data"
    }
   ],
   "source": [
    "display(Markdown(listOfThoughts))"
   ]
  },
  {
   "cell_type": "markdown",
   "metadata": {},
   "source": [
    "#### Loop over elements"
   ]
  },
  {
   "cell_type": "code",
   "execution_count": 11,
   "metadata": {
    "metadata": {}
   },
   "outputs": [
    {
     "ename": "AttributeError",
     "evalue": "'str' object has no attribute 'invoke'",
     "output_type": "error",
     "traceback": [
      "\u001b[0;31m---------------------------------------------------------------------------\u001b[0m",
      "\u001b[0;31mAttributeError\u001b[0m                            Traceback (most recent call last)",
      "Cell \u001b[0;32mIn[11], line 4\u001b[0m\n\u001b[1;32m      2\u001b[0m results \u001b[38;5;241m=\u001b[39m []\n\u001b[1;32m      3\u001b[0m \u001b[38;5;28;01mfor\u001b[39;00m item \u001b[38;5;129;01min\u001b[39;00m array:\n\u001b[0;32m----> 4\u001b[0m     results\u001b[38;5;241m.\u001b[39mappend(\u001b[43mlistOfThoughts\u001b[49m\u001b[38;5;241;43m.\u001b[39;49m\u001b[43minvoke\u001b[49m(item))\n",
      "\u001b[0;31mAttributeError\u001b[0m: 'str' object has no attribute 'invoke'"
     ]
    }
   ],
   "source": [
    "array = json.loads(listOfThoughts.replace(\"```json\", \"\").replace(\"```\", \"\"))\n",
    "results = []\n",
    "for item in array:\n",
    "    results.append(listOfThoughts.invoke(item))"
   ]
  },
  {
   "cell_type": "markdown",
   "metadata": {},
   "source": [
    "## Evaluate Pathways"
   ]
  },
  {
   "cell_type": "code",
   "execution_count": null,
   "metadata": {},
   "outputs": [
    {
     "data": {
      "text/markdown": [
       "```markdown\n",
       "\n",
       "To evaluate pathways for establishing the genealogy of the families in the given graph, we can follow these steps:\n",
       "\n",
       "1. **Identify Key Nodes**: Begin by identifying nodes that appear multiple times or have numerous connections to other nodes as they may represent central figures like Myriel and Valjean.\n",
       "\n",
       "2. **Analyze Direct Connections**: Examine direct links (edges) between individuals, such as the ones connecting Napoleon, Mlle. Baptistine, Mme. Magloire, Countess de Lo, Geborand, Champtercier, Cravatte, and Myriel to determine immediate familial relationships.\n",
       "\n",
       "3. **Trace Ancestral Links**: Look for patterns where individuals like Valjean are connected to multiple nodes (e.g., Mme. Magloire, Mlle. Baptistine), which could indicate ancestral or relative ties.\n",
       "\n",
       "4. **Consider Relative Proximity and Frequency of Connections**: The number of connections a node has can suggest the prominence of an individual within the family structure. For instance, Myriel's numerous links may imply his central role in this genealogy.\n",
       "\n",
       "5. **Map Out Family Tree Structure**: Based on the analysis above, begin to map out potential relationships and construct a tree-like diagram that represents the families' genealogy within the graph.\n",
       "\n",
       "6. **Validate Relationships**: Cross-reference identified familial connections with historical or contextual information (if available) to validate the proposed genealogical pathways.\n",
       "\n",
       "```"
      ],
      "text/plain": [
       "<IPython.core.display.Markdown object>"
      ]
     },
     "metadata": {},
     "output_type": "display_data"
    }
   ],
   "source": [
    "prompt_evaluate = ChatPromptTemplate.from_template(\"\"\"\n",
    "## 3. Evaluate pathways:\n",
    "    Given the thoughts and the data, please evaluate the pathways to  {question}.\n",
    "    DO NOT answer the question yet.\n",
    "    DO ONLY format your output as 'markdown'.\n",
    "                                                   \n",
    "### Processed data\n",
    "{data}\n",
    "                                                   \n",
    "### List of thoughts\n",
    "{thoughts}\n",
    "                                                         \n",
    "### Question\n",
    "{question}\n",
    "\n",
    "\"\"\")\n",
    "\n",
    "chain_evaluate  = prompt_evaluate | llm | StrOutputParser()\n",
    "evaluation = chain_evaluate.invoke({\n",
    "    \"data\": text,\n",
    "    \"thoughts\": listOfThoughts,\n",
    "    \"question\": question\n",
    "    })\n",
    "\n",
    "display(Markdown(evaluation))"
   ]
  },
  {
   "cell_type": "markdown",
   "metadata": {},
   "source": [
    "## Synthesize Pathway Evaluation"
   ]
  },
  {
   "cell_type": "code",
   "execution_count": null,
   "metadata": {},
   "outputs": [],
   "source": [
    "prompt_synthesize_evaluate = ChatPromptTemplate.from_template(\"\"\"\n",
    "## 4. Evaluate pathways:\n",
    "    Synthesize the data gathered from the inputs, thoughts list, and evaluation pathways\n",
    "    Create a comprehensive plan for answering the question: {question}.\n",
    "    DO NOT answer the question yet.\n",
    "    DO ONLY format your output as 'JSON' dictionary of key value pairs.\n",
    "                                                              \n",
    "                                                   \n",
    "### Processed data\n",
    "{data}\n",
    "                                                   \n",
    "### List of thoughts\n",
    "{thoughts}\n",
    "\n",
    "### Pathways evaluation\n",
    "{evaluation}\n",
    "                                                         \n",
    "### Question\n",
    "{question}\n",
    "\n",
    "\"\"\")\n",
    "\n",
    "chain_synthesize_evaluate  = prompt_synthesize_evaluate | llm | StrOutputParser()\n",
    "synthesis = chain_synthesize_evaluate.invoke({\n",
    "    \"data\": text,\n",
    "    \"thoughts\": listOfThoughts,\n",
    "    \"evaluation\": evaluation,\n",
    "    \"question\": question\n",
    "    })\n"
   ]
  },
  {
   "cell_type": "code",
   "execution_count": null,
   "metadata": {},
   "outputs": [
    {
     "data": {
      "text/markdown": [
       "```json\n",
       "{\n",
       "    \"key_thoughts\": [\n",
       "        \"Identify central figures\",\n",
       "        \"Analyze direct familial connections\",\n",
       "        \"Trace ancestral links\",\n",
       "        \"Consider relative prominence\",\n",
       "        \"Map family tree structure\",\n",
       "        \"Validate relationships\"\n",
       "    ],\n",
       "    \"evaluation_pathways\": [\n",
       "        {\n",
       "            \"step\": \"Identify Key Nodes\",\n",
       "            \"description\": \"Central figures like Myriel and Valjean are identified due to multiple connections.\"\n",
       "        },\n",
       "        {\n",
       "            \"step\": \"Analyze Direct Connections\",\n",
       "            \"description\": \"Examine direct links between individuals for immediate familial relationships.\"\n",
       "        },\n",
       "        {\n",
       "            \"step\": \"Trace Ancestral Links\",\n",
       "            \"description\": \"Look for patterns where Valjean is connected to multiple nodes, indicating ancestral ties.\"\n",
       "        },\n",
       "        {\n",
       "            \"step\": \"Consider Relative Proximity and Frequency of Connections\",\n",
       "            \"description\": \"Assess the number of connections a node has as an indicator of individual prominence within the family structure.\"\n",
       "        },\n",
       "        {\n",
       "            \"step\": \"Map Out Family Tree Structure\",\n",
       "            \"description\": \"Construct a tree-like diagram representing the genealogy based on analyzed data.\"\n",
       "        },\n",
       "        {\n",
       "            \"step\": \"Validate Relationships\",\n",
       "            \"description\": \"Cross-reference identified connections with historical or contextual information to confirm accuracy.\"\n",
       "        }\n",
       "    ]\n",
       "}\n",
       "```"
      ],
      "text/plain": [
       "<IPython.core.display.Markdown object>"
      ]
     },
     "metadata": {},
     "output_type": "display_data"
    }
   ],
   "source": [
    "\n",
    "display(Markdown(synthesis))"
   ]
  },
  {
   "cell_type": "markdown",
   "metadata": {},
   "source": [
    "## Formulate Conclusions"
   ]
  },
  {
   "cell_type": "code",
   "execution_count": null,
   "metadata": {},
   "outputs": [
    {
     "data": {
      "text/markdown": [
       "To establish the genealogy of families in a graph, follow these steps:\n",
       "\n",
       "1. **Identify Key Figures**: Begin by pinpointing central individuals who have numerous connections with other nodes within the graph. These key figures often represent ancestors or influential family members whose relationships span across various branches.\n",
       "\n",
       "2. **Analyze Direct Connections**: Next, analyze direct familial links between pairs of nodes to determine parent-child and sibling relationships. Look for patterns such as repeated interactions that suggest a strong likelihood of kinship.\n",
       "\n",
       "3. **Trace Ancestral Links**: Finally, trace ancestral connections by identifying recurring nodes that are connected to multiple individuals in the graph. These nodes likely represent common ancestors whose lineage can be traced through various family branches within the graph.\n",
       "\n",
       "By following these steps, you will be able to construct a comprehensive genealogy of families depicted in the graph."
      ],
      "text/plain": [
       "<IPython.core.display.Markdown object>"
      ]
     },
     "metadata": {},
     "output_type": "display_data"
    }
   ],
   "source": [
    "prompt_formulate = ChatPromptTemplate.from_template(\"\"\"\n",
    "## 5. Formulate answer:\n",
    "    Given the synthesized data, please formulate a final answer to the question: {question}.\n",
    "    DO NOT mention thoughts or evaluation pathways, only formulate the final answer to the user.\n",
    "    DO create a comprehensive and engaging article using markdown syntax, with sections and subsections.\n",
    "                                                   \n",
    "### Synthesis                                   \n",
    "{synthesis}\n",
    "                                                         \n",
    "### Question\n",
    "{question}\n",
    "\n",
    "\"\"\")\n",
    "\n",
    "chain_formulate  = prompt_formulate | llm | StrOutputParser()\n",
    "synthesis = chain_formulate.invoke({\n",
    "    \"synthesis\": synthesis,\n",
    "    \"question\": question\n",
    "    })\n",
    "\n",
    "display(Markdown(synthesis))"
   ]
  }
 ],
 "metadata": {
  "kernelspec": {
   "display_name": "unsloth_env",
   "language": "python",
   "name": "python3"
  },
  "language_info": {
   "codemirror_mode": {
    "name": "ipython",
    "version": 3
   },
   "file_extension": ".py",
   "mimetype": "text/x-python",
   "name": "python",
   "nbconvert_exporter": "python",
   "pygments_lexer": "ipython3",
   "version": "3.10.12"
  }
 },
 "nbformat": 4,
 "nbformat_minor": 2
}
