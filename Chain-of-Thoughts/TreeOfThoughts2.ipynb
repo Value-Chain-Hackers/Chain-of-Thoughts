{
 "cells": [
  {
   "cell_type": "code",
   "execution_count": 69,
   "metadata": {
    "metadata": {}
   },
   "outputs": [
    {
     "name": "stdout",
     "output_type": "stream",
     "text": [
      "Defaulting to user installation because normal site-packages is not writeable\n",
      "Requirement already satisfied: langchain in /home/chris/.local/lib/python3.10/site-packages (0.1.20)\n",
      "Requirement already satisfied: langchain_community in /home/chris/.local/lib/python3.10/site-packages (0.0.38)\n",
      "Requirement already satisfied: requests<3,>=2 in /home/chris/.local/lib/python3.10/site-packages (from langchain) (2.31.0)\n",
      "Requirement already satisfied: dataclasses-json<0.7,>=0.5.7 in /home/chris/.local/lib/python3.10/site-packages (from langchain) (0.6.6)\n",
      "Requirement already satisfied: langchain-text-splitters<0.1,>=0.0.1 in /home/chris/.local/lib/python3.10/site-packages (from langchain) (0.0.1)\n",
      "Requirement already satisfied: aiohttp<4.0.0,>=3.8.3 in /home/chris/.local/lib/python3.10/site-packages (from langchain) (3.9.5)\n",
      "Requirement already satisfied: PyYAML>=5.3 in /usr/lib/python3/dist-packages (from langchain) (5.4.1)\n",
      "Requirement already satisfied: numpy<2,>=1 in /home/chris/.local/lib/python3.10/site-packages (from langchain) (1.26.4)\n",
      "Requirement already satisfied: langsmith<0.2.0,>=0.1.17 in /home/chris/.local/lib/python3.10/site-packages (from langchain) (0.1.57)\n",
      "Requirement already satisfied: pydantic<3,>=1 in /home/chris/.local/lib/python3.10/site-packages (from langchain) (2.7.1)\n",
      "Requirement already satisfied: langchain-core<0.2.0,>=0.1.52 in /home/chris/.local/lib/python3.10/site-packages (from langchain) (0.1.52)\n",
      "Requirement already satisfied: async-timeout<5.0.0,>=4.0.0 in /home/chris/.local/lib/python3.10/site-packages (from langchain) (4.0.3)\n",
      "Requirement already satisfied: tenacity<9.0.0,>=8.1.0 in /home/chris/.local/lib/python3.10/site-packages (from langchain) (8.3.0)\n",
      "Requirement already satisfied: SQLAlchemy<3,>=1.4 in /home/chris/.local/lib/python3.10/site-packages (from langchain) (2.0.30)\n",
      "Requirement already satisfied: aiosignal>=1.1.2 in /home/chris/.local/lib/python3.10/site-packages (from aiohttp<4.0.0,>=3.8.3->langchain) (1.3.1)\n",
      "Requirement already satisfied: multidict<7.0,>=4.5 in /home/chris/.local/lib/python3.10/site-packages (from aiohttp<4.0.0,>=3.8.3->langchain) (6.0.5)\n",
      "Requirement already satisfied: attrs>=17.3.0 in /home/chris/.local/lib/python3.10/site-packages (from aiohttp<4.0.0,>=3.8.3->langchain) (23.2.0)\n",
      "Requirement already satisfied: frozenlist>=1.1.1 in /home/chris/.local/lib/python3.10/site-packages (from aiohttp<4.0.0,>=3.8.3->langchain) (1.4.1)\n",
      "Requirement already satisfied: yarl<2.0,>=1.0 in /home/chris/.local/lib/python3.10/site-packages (from aiohttp<4.0.0,>=3.8.3->langchain) (1.9.4)\n",
      "Requirement already satisfied: typing-inspect<1,>=0.4.0 in /home/chris/.local/lib/python3.10/site-packages (from dataclasses-json<0.7,>=0.5.7->langchain) (0.9.0)\n",
      "Requirement already satisfied: marshmallow<4.0.0,>=3.18.0 in /home/chris/.local/lib/python3.10/site-packages (from dataclasses-json<0.7,>=0.5.7->langchain) (3.21.2)\n",
      "Requirement already satisfied: jsonpatch<2.0,>=1.33 in /home/chris/.local/lib/python3.10/site-packages (from langchain-core<0.2.0,>=0.1.52->langchain) (1.33)\n",
      "Requirement already satisfied: packaging<24.0,>=23.2 in /home/chris/.local/lib/python3.10/site-packages (from langchain-core<0.2.0,>=0.1.52->langchain) (23.2)\n",
      "Requirement already satisfied: orjson<4.0.0,>=3.9.14 in /home/chris/.local/lib/python3.10/site-packages (from langsmith<0.2.0,>=0.1.17->langchain) (3.10.3)\n",
      "Requirement already satisfied: pydantic-core==2.18.2 in /home/chris/.local/lib/python3.10/site-packages (from pydantic<3,>=1->langchain) (2.18.2)\n",
      "Requirement already satisfied: typing-extensions>=4.6.1 in /home/chris/.local/lib/python3.10/site-packages (from pydantic<3,>=1->langchain) (4.11.0)\n",
      "Requirement already satisfied: annotated-types>=0.4.0 in /home/chris/.local/lib/python3.10/site-packages (from pydantic<3,>=1->langchain) (0.6.0)\n",
      "Requirement already satisfied: charset-normalizer<4,>=2 in /home/chris/.local/lib/python3.10/site-packages (from requests<3,>=2->langchain) (3.3.2)\n",
      "Requirement already satisfied: idna<4,>=2.5 in /home/chris/.local/lib/python3.10/site-packages (from requests<3,>=2->langchain) (3.7)\n",
      "Requirement already satisfied: certifi>=2017.4.17 in /home/chris/.local/lib/python3.10/site-packages (from requests<3,>=2->langchain) (2024.2.2)\n",
      "Requirement already satisfied: urllib3<3,>=1.21.1 in /home/chris/.local/lib/python3.10/site-packages (from requests<3,>=2->langchain) (2.2.1)\n",
      "Requirement already satisfied: greenlet!=0.4.17 in /home/chris/.local/lib/python3.10/site-packages (from SQLAlchemy<3,>=1.4->langchain) (3.0.3)\n",
      "Requirement already satisfied: jsonpointer>=1.9 in /home/chris/.local/lib/python3.10/site-packages (from jsonpatch<2.0,>=1.33->langchain-core<0.2.0,>=0.1.52->langchain) (2.4)\n",
      "Requirement already satisfied: mypy-extensions>=0.3.0 in /home/chris/.local/lib/python3.10/site-packages (from typing-inspect<1,>=0.4.0->dataclasses-json<0.7,>=0.5.7->langchain) (1.0.0)\n",
      "Note: you may need to restart the kernel to use updated packages.\n"
     ]
    }
   ],
   "source": [
    "%pip install langchain langchain_community "
   ]
  },
  {
   "cell_type": "code",
   "execution_count": 75,
   "metadata": {
    "metadata": {}
   },
   "outputs": [],
   "source": [
    "from langchain.prompts import ChatPromptTemplate, PromptTemplate\n",
    "from langchain_community.llms.ollama import Ollama\n",
    "from langchain.llms.openai import OpenAIChat\n",
    "from langchain_core.output_parsers.string import StrOutputParser\n",
    "from langchain_core.output_parsers.json import JsonOutputParser\n",
    "import pandas as pd\n",
    "from IPython.display import display, Markdown\n",
    "llm = Ollama(model=\"llama3:latest\", num_ctx=4096, num_predict=1024, temperature=0.1)\n",
    "#llm = OpenAIChat(model=\"gpt-4\", temperature=0.1)"
   ]
  },
  {
   "cell_type": "code",
   "execution_count": 76,
   "metadata": {
    "metadata": {}
   },
   "outputs": [],
   "source": [
    "question = \"give me the supplychain powerdynamics map of the company ASML?\""
   ]
  },
  {
   "cell_type": "markdown",
   "metadata": {},
   "source": [
    "# Tree of thoughts"
   ]
  },
  {
   "cell_type": "code",
   "execution_count": 77,
   "metadata": {
    "metadata": {}
   },
   "outputs": [
    {
     "name": "stdout",
     "output_type": "stream",
     "text": [
      "Graph length: 7352\n"
     ]
    }
   ],
   "source": [
    "import json\n",
    "\n",
    "def load_graph(file):\n",
    "    with open(file) as f:\n",
    "        data = json.load(f)\n",
    "\n",
    "    text = \"```mermaid\\ngraph LR\\n\"\n",
    "    for item in data[\"links\"]:\n",
    "        text += f'\\t{item[\"source\"]} -- {item[\"value\"]} --> {item[\"target\"]}\\n'\n",
    "    text += \"```\"\n",
    "    return text\n",
    "text = load_graph(\"miserables_1.json\")\n",
    "\n",
    "graph_length = len(text)\n",
    "\n",
    "print(f\"Graph length: {graph_length}\")\n",
    "text = \"no input data\""
   ]
  },
  {
   "cell_type": "markdown",
   "metadata": {},
   "source": [
    "```mermaid\n",
    "graph LR;\n",
    "    A[Process Inputs] --> B[Create Thoughts];\n",
    "    B --> C[Evaluate Pathways];\n",
    "    C --> D[Summarize Results];\n",
    "    D --> E[Formulate Conclusions];\n",
    "```"
   ]
  },
  {
   "cell_type": "code",
   "execution_count": 78,
   "metadata": {
    "metadata": {}
   },
   "outputs": [
    {
     "data": {
      "text/markdown": [
       "no input data"
      ],
      "text/plain": [
       "<IPython.core.display.Markdown object>"
      ]
     },
     "metadata": {},
     "output_type": "display_data"
    }
   ],
   "source": [
    "display(Markdown(text))\n",
    "#display(text)"
   ]
  },
  {
   "cell_type": "markdown",
   "metadata": {},
   "source": [
    "# Process inputs"
   ]
  },
  {
   "cell_type": "markdown",
   "metadata": {},
   "source": [
    "Process the potential inputs into the the model: "
   ]
  },
  {
   "cell_type": "code",
   "execution_count": 80,
   "metadata": {
    "metadata": {}
   },
   "outputs": [],
   "source": [
    "prompt_process_inputs = PromptTemplate.from_template(\"\"\"\n",
    "## 1. Process inputs:\n",
    "    Given your knowledge, expressed as markdown format. \n",
    "    Please count the number of nodes and links in the graph.\n",
    "### Question\n",
    "{question}\n",
    "                                                         \n",
    "\"\"\")\n",
    "\n",
    "chain  = prompt_process_inputs | llm | StrOutputParser()"
   ]
  },
  {
   "cell_type": "markdown",
   "metadata": {},
   "source": [
    "Take the entire Graph "
   ]
  },
  {
   "cell_type": "code",
   "execution_count": 81,
   "metadata": {
    "metadata": {}
   },
   "outputs": [
    {
     "data": {
      "text/markdown": [
       "A fascinating question!\n",
       "\n",
       "ASML (Applied Materials Sciences Ltd.) is a leading semiconductor equipment manufacturer. To create a supply chain relation map, I'll provide an overview of their key suppliers and customers.\n",
       "\n",
       "**Nodes:**\n",
       "\n",
       "1. **ASML**: The company itself, which is the central node in our graph.\n",
       "2. **Suppliers:**\n",
       "\t* **Intel**: A major customer of ASML's semiconductor equipment.\n",
       "\t* **Samsung**: Another significant customer of ASML's products.\n",
       "\t* **TSMC** (Taiwan Semiconductor Manufacturing Company): A leading foundry that uses ASML's equipment.\n",
       "\t* **GlobalFoundries**: A leading independent semiconductor foundry that also uses ASML's equipment.\n",
       "\t* **Other suppliers**: Various companies providing components, materials, and services to ASML.\n",
       "\n",
       "3. **Customers:**\n",
       "\t* **Intel**: Receives ASML's semiconductor equipment for their own manufacturing processes.\n",
       "\t* **Samsung**: Also receives ASML's equipment for their production lines.\n",
       "\t* **TSMC**: Uses ASML's equipment in their foundry operations.\n",
       "\t* **GlobalFoundries**: Similarly, uses ASML's equipment in their foundry operations.\n",
       "\n",
       "**Links:**\n",
       "\n",
       "1. **ASML → Suppliers**: ASML purchases components, materials, and services from these suppliers to manufacture its semiconductor equipment.\n",
       "2. **Suppliers → ASML**: The suppliers provide the necessary goods and services to ASML for the production of their equipment.\n",
       "3. **ASML → Customers**: ASML sells its semiconductor equipment to these customers, who use it in their manufacturing processes.\n",
       "\n",
       "**Counting nodes and links:**\n",
       "\n",
       "* Nodes: 7 (ASML, Intel, Samsung, TSMC, GlobalFoundries, Other suppliers)\n",
       "* Links: 6 (ASML → Suppliers, Suppliers → ASML, ASML → Customers)\n",
       "\n",
       "Please note that this is a simplified representation of the supply chain relation map for ASML. The actual graph would likely include many more nodes and links, representing various other companies, organizations, and relationships involved in the semiconductor industry.\n",
       "\n",
       "Would you like me to elaborate on any specific aspect of this graph or provide additional information?"
      ],
      "text/plain": [
       "<IPython.core.display.Markdown object>"
      ]
     },
     "metadata": {},
     "output_type": "display_data"
    }
   ],
   "source": [
    "processedData =  chain.invoke({\n",
    "    \"graph\": text,\n",
    "    \"question\": question\n",
    "})\n",
    "\n",
    "display(Markdown(processedData))"
   ]
  },
  {
   "cell_type": "markdown",
   "metadata": {},
   "source": [
    "# List Toughts"
   ]
  },
  {
   "cell_type": "markdown",
   "metadata": {},
   "source": []
  },
  {
   "cell_type": "code",
   "execution_count": 83,
   "metadata": {
    "metadata": {}
   },
   "outputs": [],
   "source": [
    "prompt_create_toughts = ChatPromptTemplate.from_template(\"\"\"\n",
    "## 2. Create list of 10 toughts:\n",
    "    Given the processed data, please create a list of toughts that you have about the data.\n",
    "    Only list the that are relevant to the data and user question: {question}\n",
    "    Do not answer the question yet.\n",
    "    DO ONLY output as a valid 'JSON' array of strings in a JSON codeblock.\n",
    "### Processed data\n",
    "{data}\n",
    "                                                         \n",
    "### Question\n",
    "{question}\n",
    "                                                         \n",
    "\"\"\")\n",
    "\n",
    "chain_toughts  = prompt_create_toughts | llm | JsonOutputParser()"
   ]
  },
  {
   "cell_type": "markdown",
   "metadata": {},
   "source": [
    "A string Array of JSON strings"
   ]
  },
  {
   "cell_type": "code",
   "execution_count": 84,
   "metadata": {
    "metadata": {}
   },
   "outputs": [],
   "source": [
    "listOfThoughts = chain_toughts.invoke({\n",
    "    \"data\": processedData,\n",
    "    \"question\": question\n",
    "    })"
   ]
  },
  {
   "cell_type": "code",
   "execution_count": 85,
   "metadata": {
    "metadata": {}
   },
   "outputs": [
    {
     "data": {
      "text/plain": [
       "['The data appears to be a simplified representation of the supply chain relation map for ASML.',\n",
       " 'There are 7 nodes in total: ASML, Intel, Samsung, TSMC, GlobalFoundries, and Other suppliers.',\n",
       " 'The links represent the relationships between these nodes, with ASML being the central node.',\n",
       " 'ASML purchases components, materials, and services from its suppliers to manufacture its semiconductor equipment.',\n",
       " 'The suppliers provide goods and services to ASML for the production of their equipment.',\n",
       " 'ASML sells its semiconductor equipment to Intel, Samsung, TSMC, and GlobalFoundries, who use it in their manufacturing processes.',\n",
       " 'The actual graph would likely include many more nodes and links, representing various other companies, organizations, and relationships involved in the semiconductor industry.']"
      ]
     },
     "metadata": {},
     "output_type": "display_data"
    }
   ],
   "source": [
    "display((listOfThoughts))"
   ]
  },
  {
   "cell_type": "markdown",
   "metadata": {},
   "source": [
    "#### Loop over elements"
   ]
  },
  {
   "cell_type": "markdown",
   "metadata": {},
   "source": [
    "## Evaluate Pathways"
   ]
  },
  {
   "cell_type": "code",
   "execution_count": 86,
   "metadata": {
    "metadata": {}
   },
   "outputs": [
    {
     "data": {
      "text/markdown": [
       "### Evaluation Criteria for Pathways\n",
       "\n",
       "* **Relevance**: How well does the pathway relate to the original question?\n",
       "* **Accuracy**: Is the information presented accurate and consistent with available data?\n",
       "* **Completeness**: Does the pathway provide a comprehensive overview of the supply chain relation map for ASML?\n",
       "\n",
       "### Evaluation of Pathways\n",
       "\n",
       "#### Thought 1: \"The data appears to be a simplified representation of the supply chain relation map for ASML.\"\n",
       "\n",
       "* Relevance: High\n",
       "* Accuracy: Unclear (no input data provided)\n",
       "* Completeness: Low\n",
       "\n",
       "#### Thought 2: \"There are 7 nodes in total: ASML, Intel, Samsung, TSMC, GlobalFoundries, and Other suppliers.\"\n",
       "\n",
       "* Relevance: Medium\n",
       "* Accuracy: Unclear (number of nodes not specified)\n",
       "* Completeness: Medium\n",
       "\n",
       "#### Thought 3: \"The links represent the relationships between these nodes, with ASML being the central node.\"\n",
       "\n",
       "* Relevance: High\n",
       "* Accuracy: Unclear (no specific information about relationships)\n",
       "* Completeness: Low\n",
       "\n",
       "#### Thought 4: \"ASML purchases components, materials, and services from its suppliers to manufacture its semiconductor equipment.\"\n",
       "\n",
       "* Relevance: Medium\n",
       "* Accuracy: Unclear (no specific data provided)\n",
       "* Completeness: Medium\n",
       "\n",
       "#### Thought 5: \"The suppliers provide goods and services to ASML for the production of their equipment.\"\n",
       "\n",
       "* Relevance: Medium\n",
       "* Accuracy: Unclear (no specific data provided)\n",
       "* Completeness: Medium\n",
       "\n",
       "#### Thought 6: \"ASML sells its semiconductor equipment to Intel, Samsung, TSMC, and GlobalFoundries, who use it in their manufacturing processes.\"\n",
       "\n",
       "* Relevance: High\n",
       "* Accuracy: Unclear (no specific data provided)\n",
       "* Completeness: Low\n",
       "\n",
       "#### Thought 7: \"The actual graph would likely include many more nodes and links, representing various other companies, organizations, and relationships involved in the semiconductor industry.\"\n",
       "\n",
       "* Relevance: Medium\n",
       "* Accuracy: Unclear (no specific information about additional nodes and links)\n",
       "* Completeness: High"
      ],
      "text/plain": [
       "<IPython.core.display.Markdown object>"
      ]
     },
     "metadata": {},
     "output_type": "display_data"
    }
   ],
   "source": [
    "prompt_evaluate = ChatPromptTemplate.from_template(\"\"\"\n",
    "## 3. Evaluate pathways:\n",
    "    Given the thoughts and the data, please evaluate and argue with evaluation criterias the pathways of each thought.\n",
    "    DO NOT answer the question yet.\n",
    "    DO ONLY format your output as 'markdown'.\n",
    "                                                   \n",
    "### Processed data\n",
    "{data}\n",
    "                                                   \n",
    "### List of thoughts\n",
    "{thoughts}\n",
    "                                                         \n",
    "### Question\n",
    "{question}\n",
    "\n",
    "\"\"\")\n",
    "\n",
    "chain_evaluate  = prompt_evaluate | llm | StrOutputParser()\n",
    "evaluation = chain_evaluate.invoke({\n",
    "    \"data\": text,\n",
    "    \"thoughts\": listOfThoughts,\n",
    "    \"question\": question\n",
    "    })\n",
    "\n",
    "display(Markdown(evaluation))"
   ]
  },
  {
   "cell_type": "markdown",
   "metadata": {},
   "source": [
    "## Synthesize Pathway Evaluation"
   ]
  },
  {
   "cell_type": "code",
   "execution_count": 87,
   "metadata": {
    "metadata": {}
   },
   "outputs": [],
   "source": [
    "prompt_synthesize_evaluate = ChatPromptTemplate.from_template(\"\"\"\n",
    "## 4. Evaluate pathways:\n",
    "    Synthesize the data gathered from thoughts list and evaluation pathways\n",
    "    Create a comprehensive synthesis for answering the question: {question}.\n",
    "    DO NOT answer the question yet.\n",
    "    DO process all thoughts\n",
    "                                                   \n",
    "### List of thoughts\n",
    "{thoughts}\n",
    "\n",
    "### Pathways evaluation\n",
    "{evaluation}\n",
    "                                                         \n",
    "### Question\n",
    "{question}\n",
    "\n",
    "\"\"\")\n",
    "\n",
    "chain_synthesize_evaluate  = prompt_synthesize_evaluate | llm | StrOutputParser()\n",
    "synthesis = chain_synthesize_evaluate.invoke({\n",
    "    \"data\": text,\n",
    "    \"thoughts\": listOfThoughts,\n",
    "    \"evaluation\": evaluation,\n",
    "    \"question\": question\n",
    "    })\n"
   ]
  },
  {
   "cell_type": "code",
   "execution_count": 88,
   "metadata": {
    "metadata": {}
   },
   "outputs": [
    {
     "data": {
      "text/markdown": [
       "Based on the evaluation of pathways, it appears that Thought 7 has the highest relevance to answering the question \"give me the supplychain relation map of the company ASML?\" as it acknowledges the complexity and scope of the actual graph. However, since there is no specific information provided about additional nodes and links, the accuracy and completeness of this thought are unclear.\n",
       "\n",
       "To answer the question, I would suggest combining Thoughts 2-6 to provide a comprehensive overview of the supply chain relation map for ASML. This could include:\n",
       "\n",
       "* The 7 nodes mentioned in Thought 2: ASML, Intel, Samsung, TSMC, GlobalFoundries, and Other suppliers\n",
       "* The relationships between these nodes, with ASML being the central node (Thought 3)\n",
       "* The flow of goods and services from suppliers to ASML for production (Thoughts 4-5)\n",
       "* The sales of semiconductor equipment by ASML to Intel, Samsung, TSMC, and GlobalFoundries (Thought 6)\n",
       "\n",
       "However, it is important to note that this would likely be a simplified representation, as mentioned in Thought 7. A more comprehensive supply chain relation map for ASML would likely include many more nodes and links, representing various other companies, organizations, and relationships involved in the semiconductor industry.\n",
       "\n",
       "Therefore, I would recommend providing a detailed and accurate representation of the supply chain relation map for ASML, including all relevant nodes and links, to provide a complete and comprehensive answer to the question."
      ],
      "text/plain": [
       "<IPython.core.display.Markdown object>"
      ]
     },
     "metadata": {},
     "output_type": "display_data"
    }
   ],
   "source": [
    "\n",
    "display(Markdown(synthesis))"
   ]
  },
  {
   "cell_type": "markdown",
   "metadata": {},
   "source": [
    "## Formulate Conclusions"
   ]
  },
  {
   "cell_type": "code",
   "execution_count": 89,
   "metadata": {
    "metadata": {}
   },
   "outputs": [
    {
     "data": {
      "text/markdown": [
       "**Supply Chain Relation Map of ASML**\n",
       "\n",
       "ASML Holding N.V. is a leading provider of semiconductor equipment for the global electronics industry. As one of the largest players in the sector, ASML's supply chain is complex and far-reaching, involving numerous companies and organizations around the world. In this article, we will provide an overview of the supply chain relation map for ASML, highlighting key nodes and relationships.\n",
       "\n",
       "**Nodes**\n",
       "\n",
       "1. **ASML**: The central node in our supply chain relation map, ASML is a leading provider of semiconductor equipment.\n",
       "2. **Intel**: A major customer of ASML's products, Intel is one of the largest technology companies in the world.\n",
       "3. **Samsung**: Another significant customer of ASML's products, Samsung is a South Korean conglomerate with a strong presence in the electronics industry.\n",
       "4. **TSMC**: Taiwan Semiconductor Manufacturing Company (TSMC) is a leading independent semiconductor foundry and a major customer of ASML's products.\n",
       "5. **GlobalFoundries**: A global leader in the development and manufacturing of advanced semiconductor technologies, GlobalFoundries is also a significant customer of ASML's products.\n",
       "6. **Other Suppliers**: This node represents various other companies that supply goods and services to ASML for the production of its semiconductor equipment.\n",
       "\n",
       "**Relationships**\n",
       "\n",
       "ASML purchases components, materials, and services from its suppliers (Other Suppliers) to manufacture its semiconductor equipment. These suppliers provide a range of goods and services, including:\n",
       "\n",
       "* **Components**: Such as silicon wafers, chemicals, and other raw materials used in the production process.\n",
       "* **Materials**: Including packaging materials, substrates, and other supplies needed for manufacturing.\n",
       "* **Services**: Like design, testing, and assembly services that support ASML's equipment development and manufacturing.\n",
       "\n",
       "In turn, ASML sells its semiconductor equipment to Intel, Samsung, TSMC, and GlobalFoundries, who use it in their manufacturing processes. These customers rely on ASML's products to produce a wide range of electronic devices, including microprocessors, memory chips, and other components used in smartphones, laptops, and other consumer electronics.\n",
       "\n",
       "**Additional Nodes and Links**\n",
       "\n",
       "While the above nodes and relationships provide a comprehensive overview of ASML's supply chain relation map, it is important to note that this would likely be a simplified representation. In reality, the actual graph would include many more nodes and links, representing various other companies, organizations, and relationships involved in the semiconductor industry.\n",
       "\n",
       "For example, additional suppliers might include:\n",
       "\n",
       "* **Specialty Chemicals**: Companies that provide specialized chemicals used in ASML's manufacturing processes.\n",
       "* **Packaging Materials**: Suppliers of packaging materials, such as substrates and encapsulants, used to protect and support ASML's products.\n",
       "* **Assembly Services**: Providers of assembly services, like wire bonding and flip chip attachment, that support ASML's equipment development and manufacturing.\n",
       "\n",
       "Similarly, additional customers might include:\n",
       "\n",
       "* **Other Semiconductor Companies**: Firms that design, manufacture, and test their own semiconductor devices using ASML's equipment.\n",
       "* **Original Equipment Manufacturers (OEMs)**: Companies that use ASML's products to produce electronic devices, such as smartphones, laptops, and servers.\n",
       "* **Research Institutions**: Organizations that conduct research and development in the field of semiconductors, often relying on ASML's equipment for their work.\n",
       "\n",
       "By acknowledging the complexity and scope of the actual graph, we can better appreciate the intricate relationships between companies, organizations, and industries involved in the supply chain relation map for ASML."
      ],
      "text/plain": [
       "<IPython.core.display.Markdown object>"
      ]
     },
     "metadata": {},
     "output_type": "display_data"
    }
   ],
   "source": [
    "prompt_formulate = ChatPromptTemplate.from_template(\"\"\"\n",
    "## 5. Formulate answer:\n",
    "    Given the synthesized data, please formulate a final answer to the question: {question}.\n",
    "    DO be specific with names of companies, suppliers and products.\n",
    "    DO give product names and ingredients.\n",
    "    DO only formulate the final answer to the user.\n",
    "    DO create a comprehensive and engaging article that supplychain professionals would find intresting.\n",
    "    DO use 2000 words using markdown syntax, with sections and subsections.\n",
    "    DO write a paragraph for each thought and evaluation pathline\n",
    "    DO NOT give any URL's or links as references\n",
    "\n",
    "### Thoughts                                   \n",
    "{thoughts} \n",
    "\n",
    "### Evaluation                                   \n",
    "{evaluation}\n",
    "\n",
    "### Synthesis                                   \n",
    "{synthesis}\n",
    "                                                         \n",
    "### Question\n",
    "{question}\n",
    "\n",
    "\"\"\")\n",
    "\n",
    "chain_formulate  = prompt_formulate | llm | StrOutputParser()\n",
    "formulatedoutput = chain_formulate.invoke({\n",
    "    \"synthesis\": synthesis,\n",
    "    \"thoughts\": listOfThoughts,\n",
    "    \"evaluation\": evaluation,\n",
    "    \"question\": question\n",
    "    })\n",
    "\n",
    "display(Markdown(formulatedoutput))"
   ]
  },
  {
   "cell_type": "code",
   "execution_count": 90,
   "metadata": {
    "metadata": {}
   },
   "outputs": [
    {
     "data": {
      "text/markdown": [
       "Here is a Gviz diagram that represents the supply chain relation map of ASML:\n",
       "\n",
       "```gviz\n",
       "digraph ASML_Supply_Chain {\n",
       "    node[shape=box, style=filled];\n",
       "    \"ASML\" [label=\"ASML Holding N.V.\"];\n",
       "    \"Intel\" [label=\"Intel Corporation\"];\n",
       "    \"Samsung\" [label=\"Samsung Electronics Co., Ltd.\"];\n",
       "    \"TSMC\" [label=\"Taiwan Semiconductor Manufacturing Company (TSMC)\"];\n",
       "    \"GlobalFoundries\" [label=\"GlobalFoundries Inc.\"];\n",
       "    \"Other Suppliers\" [label=\"Various Other Suppliers\"];\n",
       "\n",
       "    ASML -> Intel[label=\"Semiconductor Equipment Sales\"];\n",
       "    ASML -> Samsung[label=\"Semiconductor Equipment Sales\"];\n",
       "    ASML -> TSMC[label=\"Semiconductor Equipment Sales\"];\n",
       "    ASML -> GlobalFoundries[label=\"Semiconductor Equipment Sales\"];\n",
       "    Other Suppliers -> ASML[label=\"Components, Materials, and Services\"];\n",
       "\n",
       "    \"Specialty Chemicals\" [label=\"Specialty Chemicals Inc.\"];\n",
       "    \"Packaging Materials\" [label=\"Packaging Materials Co., Ltd.\"];\n",
       "    \"Assembly Services\" [label=\"Assembly Services Inc.\"];\n",
       "\n",
       "    Other Suppliers -> Specialty Chemicals[label=\"Chemicals\"];\n",
       "    Other Suppliers -> Packaging Materials[label=\"Packaging Materials\"];\n",
       "    Other Suppliers -> Assembly Services[label=\"Assembly Services\"];\n",
       "\n",
       "    Intel -> ASML[label=\"Semiconductor Equipment Purchases\"];\n",
       "    Samsung -> ASML[label=\"Semiconductor Equipment Purchases\"];\n",
       "    TSMC -> ASML[label=\"Semiconductor Equipment Purchases\"];\n",
       "    GlobalFoundries -> ASML[label=\"Semiconductor Equipment Purchases\"];\n",
       "}\n",
       "```\n",
       "\n",
       "This Gviz diagram represents the supply chain relation map of ASML, showing the company's relationships with its suppliers and customers. The nodes in the graph represent companies, organizations, or industries involved in the supply chain, while the edges represent the flow of goods and services between these entities.\n",
       "\n",
       "Please note that this is a simplified representation, as mentioned earlier, and the actual graph would likely include many more nodes and links, representing various other companies, organizations, and relationships involved in the semiconductor industry."
      ],
      "text/plain": [
       "<IPython.core.display.Markdown object>"
      ]
     },
     "metadata": {},
     "output_type": "display_data"
    }
   ],
   "source": [
    "prompt_diagram = ChatPromptTemplate.from_template(\"\"\"\n",
    "## 5. Formulate answer:\n",
    "    Given the synthesized data, please make a final answer to the question: {question}.\n",
    "    DO be specific with names of companies, suppliers and products.\n",
    "    DO give product names and ingredients.\n",
    "    DO ONLY formulate the final answer to the user.\n",
    "    DO ONLY produce a graviz diagram of the supplychain\n",
    "    Make sure the graviz syntax is valid\n",
    "   \n",
    "\n",
    "### Thoughts                                   \n",
    "{thoughts} \n",
    "\n",
    "### Evaluation                                   \n",
    "{evaluation}\n",
    "\n",
    "### Synthesis                                   \n",
    "{synthesis}\n",
    "\n",
    "### Formulated output                                   \n",
    "{formulatedoutput}\n",
    "                                                         \n",
    "### Question\n",
    "{question}\n",
    "\n",
    "\"\"\")\n",
    "\n",
    "chain_diagram  = prompt_diagram | llm | StrOutputParser()\n",
    "diagram = chain_diagram.invoke({\n",
    "    \"synthesis\": synthesis,\n",
    "    \"thoughts\": listOfThoughts,\n",
    "    \"evaluation\": evaluation,\n",
    "    \"formulatedoutput\": formulatedoutput,\n",
    "    \"question\": question\n",
    "    })\n",
    "\n",
    "display(Markdown(diagram))"
   ]
  },
  {
   "cell_type": "code",
   "execution_count": 68,
   "metadata": {
    "metadata": {}
   },
   "outputs": [
    {
     "data": {
      "text/plain": [
       "\"Based on the evaluation of the pathways, I will synthesize the data gathered from thoughts list and create a comprehensive synthesis for answering the question.\\n\\n**Supply Chain Relation Map of Unilever**\\n\\nThe central node in this supply chain is **Unilever**, which connects various nodes through different relationships. Here's a visual representation of the map:\\n\\n* **Manufacturing Facilities**: Connected to Unilever through production, indicating that these facilities produce goods for Unilever.\\n* **Distributors**: Connected to Manufacturing Facilities for storage and transportation, suggesting that distributors receive products from manufacturing facilities and store them before transporting them to retailers.\\n* **Retailers**: Connected to Distributors for product sales, implying that retailers purchase products from distributors and sell them to consumers.\\n* **Farmers/Food Producers**: Connected to Unilever for raw material sourcing, indicating that Unilever sources raw materials from these farmers/food producers.\\n* **Packaging Suppliers**: Connected to Unilever for packaging materials, suggesting that Unilever obtains packaging materials from these suppliers.\\n* **Logistics Providers**: Connected to Unilever for transportation and warehousing, implying that logistics providers transport products and store them on behalf of Unilever.\\n\\nThis supply chain relation map illustrates the various connections between nodes in the Unilever supply chain.\""
      ]
     },
     "execution_count": 68,
     "metadata": {},
     "output_type": "execute_result"
    }
   ],
   "source": [
    "synthesis"
   ]
  }
 ],
 "metadata": {
  "kernelspec": {
   "display_name": "unsloth_env",
   "language": "python",
   "name": "python3"
  },
  "language_info": {
   "codemirror_mode": {
    "name": "ipython",
    "version": 3
   },
   "file_extension": ".py",
   "mimetype": "text/x-python",
   "name": "python",
   "nbconvert_exporter": "python",
   "pygments_lexer": "ipython3",
   "version": "3.10.12"
  }
 },
 "nbformat": 4,
 "nbformat_minor": 2
}
